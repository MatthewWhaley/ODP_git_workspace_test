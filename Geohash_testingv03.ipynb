{
 "cells": [
  {
   "cell_type": "code",
   "execution_count": 4,
   "id": "8bd72041-4597-496d-a632-6550e62a60fa",
   "metadata": {},
   "outputs": [],
   "source": [
    "import pandas as pd\n",
    "import numpy as np\n",
    "precision_var = 9"
   ]
  },
  {
   "cell_type": "markdown",
   "id": "2e09f15c-86f0-4dfb-9e0e-d7b184a3302a",
   "metadata": {},
   "source": [
    "## Python-geohash\n",
    "https://pypi.org/project/python-geohash/"
   ]
  },
  {
   "cell_type": "code",
   "execution_count": 12,
   "id": "5143be13-5945-425d-ac34-86cb08c97668",
   "metadata": {},
   "outputs": [
    {
     "name": "stdout",
     "output_type": "stream",
     "text": [
      "\n",
      "\n",
      "WARNING: The --force flag will be removed in a future conda release.\n",
      "         See 'conda install --help' for details about the --force-reinstall\n",
      "         and --clobber flags.\n",
      "\n",
      "\n",
      "Collecting package metadata (current_repodata.json): \\ \n",
      "Note: you may need to restart the kernel to use updated packages.\n"
     ]
    }
   ],
   "source": [
    "conda install python-geohash"
   ]
  },
  {
   "cell_type": "code",
   "execution_count": 14,
   "id": "b657f6ce-a1d5-4f1c-bfc4-23854f9e33f7",
   "metadata": {},
   "outputs": [],
   "source": [
    "import geohash"
   ]
  },
  {
   "cell_type": "code",
   "execution_count": 123,
   "id": "0923d3ea-e8f7-4ec2-b874-289aa3bf313d",
   "metadata": {},
   "outputs": [
    {
     "data": {
      "text/plain": [
       "'h008nb00j'"
      ]
     },
     "execution_count": 123,
     "metadata": {},
     "output_type": "execute_result"
    }
   ],
   "source": [
    "geohash.encode(\n",
    "    latitude=-90,\n",
    "    longitude=-35999,\n",
    "    precision=9\n",
    ")"
   ]
  },
  {
   "cell_type": "code",
   "execution_count": 16,
   "id": "f82dbc9d-8575-4ae7-8bca-8d27b0da654f",
   "metadata": {},
   "outputs": [],
   "source": [
    "# create comparison output\n",
    "df_python_geohash = pd.DataFrame(columns = ['lat', 'long', 'geohash'])  \n",
    "for lat in range (-90, 100, 10):\n",
    "    for long in range (-180, 190, 10):\n",
    "        import geohash\n",
    "        try:\n",
    "            geohash_output = geohash.encode(\n",
    "                latitude=lat, \n",
    "                longitude=long, \n",
    "                precision=precision_var)\n",
    "        except:\n",
    "            geohash_output = \"ERROR\"\n",
    "        df_python_geohash = pd.concat([df_python_geohash, pd.DataFrame.from_records([{'lat': lat, 'long': long, 'geohash': geohash_output}])])"
   ]
  },
  {
   "cell_type": "code",
   "execution_count": 17,
   "id": "d9d81212-6923-421d-8dfb-6e8a9f5e4215",
   "metadata": {},
   "outputs": [
    {
     "name": "stdout",
     "output_type": "stream",
     "text": [
      "4.26 s ± 0 ns per loop (mean ± std. dev. of 1 run, 1 loop each)\n"
     ]
    },
    {
     "data": {
      "text/plain": [
       "<TimeitResult : 4.26 s ± 0 ns per loop (mean ± std. dev. of 1 run, 1 loop each)>"
      ]
     },
     "execution_count": 17,
     "metadata": {},
     "output_type": "execute_result"
    }
   ],
   "source": [
    "%%timeit -r 1 -n 1 -o\n",
    "# time results \n",
    "for lat in np.arange(-90, 90.1, 0.1):\n",
    "    for long in np.arange(-180, 180.1, 0.1):\n",
    "        import geohash\n",
    "        try:\n",
    "            geohash_output = geohash.encode(\n",
    "                latitude=lat, \n",
    "                longitude=long, \n",
    "                precision=precision_var)\n",
    "        except:\n",
    "            geohash_output = \"ERROR\""
   ]
  },
  {
   "cell_type": "code",
   "execution_count": 18,
   "id": "519299d6-f1d5-49cf-84df-0341c854e22e",
   "metadata": {
    "tags": []
   },
   "outputs": [
    {
     "data": {
      "text/plain": [
       "<TimeitResult : 4.26 s ± 0 ns per loop (mean ± std. dev. of 1 run, 1 loop each)>"
      ]
     },
     "execution_count": 18,
     "metadata": {},
     "output_type": "execute_result"
    }
   ],
   "source": [
    "time_python_geohash = _\n",
    "time_python_geohash"
   ]
  },
  {
   "cell_type": "markdown",
   "id": "15e83102-19ed-442d-9652-0b2f3d999d38",
   "metadata": {
    "tags": []
   },
   "source": [
    "## geohash_tools\n",
    "https://pypi.org/project/geohash-tools/"
   ]
  },
  {
   "cell_type": "code",
   "execution_count": 19,
   "id": "9b95b26d-f918-47bf-8510-7cd96971e21a",
   "metadata": {},
   "outputs": [
    {
     "name": "stdout",
     "output_type": "stream",
     "text": [
      "Collecting geohash-tools\n",
      "  Using cached geohash_tools-0.2.0-py3-none-any.whl\n",
      "Installing collected packages: geohash-tools\n",
      "Successfully installed geohash-tools-0.2.0\n",
      "Note: you may need to restart the kernel to use updated packages.\n"
     ]
    }
   ],
   "source": [
    "pip install geohash-tools"
   ]
  },
  {
   "cell_type": "code",
   "execution_count": 20,
   "id": "a9177c18-a652-4e77-b42a-e6b83e611f0d",
   "metadata": {},
   "outputs": [],
   "source": [
    "import geohash_tools as gh"
   ]
  },
  {
   "cell_type": "code",
   "execution_count": 97,
   "id": "2590b020-4696-4305-b6de-bd39c8fa9a49",
   "metadata": {},
   "outputs": [
    {
     "ename": "AssertionError",
     "evalue": "Invalid longitude",
     "output_type": "error",
     "traceback": [
      "\u001b[0;31m---------------------------------------------------------------------------\u001b[0m",
      "\u001b[0;31mAssertionError\u001b[0m                            Traceback (most recent call last)",
      "Cell \u001b[0;32mIn[97], line 1\u001b[0m\n\u001b[0;32m----> 1\u001b[0m \u001b[43mgh\u001b[49m\u001b[38;5;241;43m.\u001b[39;49m\u001b[43mencode\u001b[49m\u001b[43m(\u001b[49m\u001b[38;5;241;43m-\u001b[39;49m\u001b[38;5;241;43m90\u001b[39;49m\u001b[43m,\u001b[49m\u001b[43m \u001b[49m\u001b[38;5;241;43m181\u001b[39;49m\u001b[43m,\u001b[49m\u001b[43m \u001b[49m\u001b[43mprecision\u001b[49m\u001b[38;5;241;43m=\u001b[39;49m\u001b[38;5;241;43m9\u001b[39;49m\u001b[43m)\u001b[49m\n",
      "File \u001b[0;32m/srv/conda/envs/notebook/lib/python3.10/site-packages/geohash_tools/geohash_tools.py:29\u001b[0m, in \u001b[0;36mencode\u001b[0;34m(lat, lon, precision)\u001b[0m\n\u001b[1;32m     24\u001b[0m \u001b[38;5;250m\u001b[39m\u001b[38;5;124;03m'''\u001b[39;00m\n\u001b[1;32m     25\u001b[0m \u001b[38;5;124;03mEncode coordinates as geohash with specified precision (number of characters).\u001b[39;00m\n\u001b[1;32m     26\u001b[0m \u001b[38;5;124;03mReturns a string object containing geohash.\u001b[39;00m\n\u001b[1;32m     27\u001b[0m \u001b[38;5;124;03m'''\u001b[39;00m\n\u001b[1;32m     28\u001b[0m \u001b[38;5;28;01massert\u001b[39;00m \u001b[38;5;28mabs\u001b[39m(lat) \u001b[38;5;241m<\u001b[39m\u001b[38;5;241m=\u001b[39m \u001b[38;5;241m90\u001b[39m, \u001b[38;5;124m'\u001b[39m\u001b[38;5;124mInvalid latitude\u001b[39m\u001b[38;5;124m'\u001b[39m\n\u001b[0;32m---> 29\u001b[0m \u001b[38;5;28;01massert\u001b[39;00m \u001b[38;5;28mabs\u001b[39m(lon) \u001b[38;5;241m<\u001b[39m\u001b[38;5;241m=\u001b[39m \u001b[38;5;241m180\u001b[39m, \u001b[38;5;124m'\u001b[39m\u001b[38;5;124mInvalid longitude\u001b[39m\u001b[38;5;124m'\u001b[39m\n\u001b[1;32m     31\u001b[0m geohash \u001b[38;5;241m=\u001b[39m \u001b[38;5;28mstr\u001b[39m()\n\u001b[1;32m     32\u001b[0m lat_interval, lon_interval \u001b[38;5;241m=\u001b[39m (\u001b[38;5;241m-\u001b[39m\u001b[38;5;241m90.0\u001b[39m, \u001b[38;5;241m90.0\u001b[39m), (\u001b[38;5;241m-\u001b[39m\u001b[38;5;241m180.0\u001b[39m, \u001b[38;5;241m180.0\u001b[39m)\n",
      "\u001b[0;31mAssertionError\u001b[0m: Invalid longitude"
     ]
    }
   ],
   "source": [
    "gh.encode(-90, 181, precision=9)"
   ]
  },
  {
   "cell_type": "code",
   "execution_count": 22,
   "id": "a671b51b-707c-4f04-8bc6-21c424e4cbb5",
   "metadata": {},
   "outputs": [],
   "source": [
    "# create comparison output\n",
    "df_geohash_tools = pd.DataFrame(columns = ['lat', 'long', 'geohash'])  \n",
    "for lat in range (-90, 100, 10):\n",
    "    for long in range (-180, 190, 10):\n",
    "        try:\n",
    "            geohash_output = gh.encode(lat, long, precision=precision_var)\n",
    "        except:\n",
    "            geohash_output = \"ERROR\"\n",
    "#        print(lat,long,geohash_output)\n",
    "        df_geohash_tools = pd.concat([df_geohash_tools, pd.DataFrame.from_records([{'lat': lat, 'long': long, 'geohash': geohash_output}])])"
   ]
  },
  {
   "cell_type": "code",
   "execution_count": 23,
   "id": "b57b727a-08f6-404d-b5ff-0fd66985c8da",
   "metadata": {},
   "outputs": [
    {
     "data": {
      "text/html": [
       "<div>\n",
       "<style scoped>\n",
       "    .dataframe tbody tr th:only-of-type {\n",
       "        vertical-align: middle;\n",
       "    }\n",
       "\n",
       "    .dataframe tbody tr th {\n",
       "        vertical-align: top;\n",
       "    }\n",
       "\n",
       "    .dataframe thead th {\n",
       "        text-align: right;\n",
       "    }\n",
       "</style>\n",
       "<table border=\"1\" class=\"dataframe\">\n",
       "  <thead>\n",
       "    <tr style=\"text-align: right;\">\n",
       "      <th></th>\n",
       "      <th>lat</th>\n",
       "      <th>long</th>\n",
       "      <th>geohash</th>\n",
       "    </tr>\n",
       "  </thead>\n",
       "  <tbody>\n",
       "    <tr>\n",
       "      <th>0</th>\n",
       "      <td>-90</td>\n",
       "      <td>-180</td>\n",
       "      <td>000000000</td>\n",
       "    </tr>\n",
       "    <tr>\n",
       "      <th>0</th>\n",
       "      <td>-90</td>\n",
       "      <td>-170</td>\n",
       "      <td>00p0581b0</td>\n",
       "    </tr>\n",
       "  </tbody>\n",
       "</table>\n",
       "</div>"
      ],
      "text/plain": [
       "   lat  long    geohash\n",
       "0  -90  -180  000000000\n",
       "0  -90  -170  00p0581b0"
      ]
     },
     "execution_count": 23,
     "metadata": {},
     "output_type": "execute_result"
    }
   ],
   "source": [
    "df_geohash_tools.head(2)"
   ]
  },
  {
   "cell_type": "code",
   "execution_count": 24,
   "id": "c7593561-f858-44a3-a3af-79e9f85bf2ae",
   "metadata": {
    "tags": []
   },
   "outputs": [
    {
     "name": "stdout",
     "output_type": "stream",
     "text": [
      "1min 21s ± 0 ns per loop (mean ± std. dev. of 1 run, 1 loop each)\n"
     ]
    },
    {
     "data": {
      "text/plain": [
       "<TimeitResult : 1min 21s ± 0 ns per loop (mean ± std. dev. of 1 run, 1 loop each)>"
      ]
     },
     "execution_count": 24,
     "metadata": {},
     "output_type": "execute_result"
    }
   ],
   "source": [
    "%%timeit -r 1 -n 1 -o\n",
    "# time results \n",
    "for lat in np.arange(-90, 90.1, 0.1):\n",
    "    for long in np.arange(-180, 180.1, 0.1):\n",
    "            geohash_output = gh.encode(lat, long, precision=precision_var)"
   ]
  },
  {
   "cell_type": "code",
   "execution_count": 25,
   "id": "00a59198-0a96-4a56-b7c9-a68b0d1aefdd",
   "metadata": {
    "tags": []
   },
   "outputs": [
    {
     "data": {
      "text/plain": [
       "81.65693961712532"
      ]
     },
     "execution_count": 25,
     "metadata": {},
     "output_type": "execute_result"
    }
   ],
   "source": [
    "time_geohash_tools = _\n",
    "time_geohash_tools.average"
   ]
  },
  {
   "cell_type": "markdown",
   "id": "9698c9e8-ed7e-4a23-a64e-58e1f30997a8",
   "metadata": {},
   "source": [
    "## pygeohash\n",
    "https://pypi.org/project/pygeohash/"
   ]
  },
  {
   "cell_type": "code",
   "execution_count": 26,
   "id": "718dea68-ea26-41d0-85eb-f0a1d1b61a33",
   "metadata": {},
   "outputs": [
    {
     "name": "stdout",
     "output_type": "stream",
     "text": [
      "Collecting pygeohash\n",
      "  Using cached pygeohash-1.2.0-py2.py3-none-any.whl\n",
      "Installing collected packages: pygeohash\n",
      "Successfully installed pygeohash-1.2.0\n",
      "Note: you may need to restart the kernel to use updated packages.\n"
     ]
    }
   ],
   "source": [
    "pip install pygeohash"
   ]
  },
  {
   "cell_type": "code",
   "execution_count": 27,
   "id": "902d28e8-48bd-48ee-8ad2-c0052d2291c2",
   "metadata": {},
   "outputs": [],
   "source": [
    "import pygeohash as pgh"
   ]
  },
  {
   "cell_type": "code",
   "execution_count": 127,
   "id": "311228d3-1995-428c-b3c8-0360a6b7ea2c",
   "metadata": {},
   "outputs": [
    {
     "data": {
      "text/plain": [
       "'00000'"
      ]
     },
     "execution_count": 127,
     "metadata": {},
     "output_type": "execute_result"
    }
   ],
   "source": [
    "pgh.encode(-90.1, -1800000, precision=5)"
   ]
  },
  {
   "cell_type": "code",
   "execution_count": 29,
   "id": "47e59f97-330d-455a-b004-d015128e994d",
   "metadata": {
    "tags": []
   },
   "outputs": [],
   "source": [
    "# create comparison output\n",
    "df_pygeohash = pd.DataFrame(columns = ['lat', 'long', 'geohash'])  \n",
    "for lat in range (-90, 100, 10):\n",
    "    for long in range (-180, 190, 10):\n",
    "        try:\n",
    "            geohash_output = pgh.encode(lat, long, precision=precision_var)\n",
    "        except:\n",
    "            geohash_output = \"ERROR\"\n",
    "#        print(lat,long,geohash_output)\n",
    "        df_pygeohash = pd.concat([df_pygeohash, pd.DataFrame.from_records([{'lat': lat, 'long': long, 'geohash': geohash_output}])])"
   ]
  },
  {
   "cell_type": "code",
   "execution_count": 30,
   "id": "e6ed7524-0a7e-4eb6-b36f-23df3077cf3d",
   "metadata": {
    "tags": []
   },
   "outputs": [
    {
     "name": "stdout",
     "output_type": "stream",
     "text": [
      "1min 4s ± 0 ns per loop (mean ± std. dev. of 1 run, 1 loop each)\n"
     ]
    },
    {
     "data": {
      "text/plain": [
       "<TimeitResult : 1min 4s ± 0 ns per loop (mean ± std. dev. of 1 run, 1 loop each)>"
      ]
     },
     "execution_count": 30,
     "metadata": {},
     "output_type": "execute_result"
    }
   ],
   "source": [
    "%%timeit -r 1 -n 1 -o\n",
    "# time results \n",
    "for lat in np.arange(-90, 90.1, 0.1):\n",
    "    for long in np.arange(-180, 180.1, 0.1):\n",
    "        geohash_output = pgh.encode(lat, long, precision=precision_var)"
   ]
  },
  {
   "cell_type": "code",
   "execution_count": 31,
   "id": "4cff6c34-2607-4539-a51a-4ca905fef5aa",
   "metadata": {
    "tags": []
   },
   "outputs": [
    {
     "data": {
      "text/plain": [
       "64.30485707498156"
      ]
     },
     "execution_count": 31,
     "metadata": {},
     "output_type": "execute_result"
    }
   ],
   "source": [
    "time_pygeohash = _\n",
    "time_pygeohash.average"
   ]
  },
  {
   "cell_type": "markdown",
   "id": "d66d83da-8501-461b-8775-40f241947616",
   "metadata": {},
   "source": [
    "## geohash2\n",
    "https://pypi.org/project/geohash2/"
   ]
  },
  {
   "cell_type": "code",
   "execution_count": 32,
   "id": "484c9d25-d4e6-43a4-a059-341ae9b568c0",
   "metadata": {
    "tags": []
   },
   "outputs": [
    {
     "name": "stdout",
     "output_type": "stream",
     "text": [
      "Collecting geohash2\n",
      "  Using cached geohash2-1.1-py3-none-any.whl\n",
      "Requirement already satisfied: docutils>=0.3 in /srv/conda/envs/notebook/lib/python3.10/site-packages (from geohash2) (0.15.2)\n",
      "Installing collected packages: geohash2\n",
      "Successfully installed geohash2-1.1\n",
      "Note: you may need to restart the kernel to use updated packages.\n"
     ]
    }
   ],
   "source": [
    "pip install geohash2"
   ]
  },
  {
   "cell_type": "code",
   "execution_count": 33,
   "id": "3642fffc-8446-46e6-81bc-c458656e6c61",
   "metadata": {
    "tags": []
   },
   "outputs": [],
   "source": [
    "import geohash2"
   ]
  },
  {
   "cell_type": "code",
   "execution_count": 136,
   "id": "6ece5a7c-a68c-45cd-8993-45c95689d937",
   "metadata": {
    "tags": []
   },
   "outputs": [
    {
     "data": {
      "text/plain": [
       "'rypzp'"
      ]
     },
     "execution_count": 136,
     "metadata": {},
     "output_type": "execute_result"
    }
   ],
   "source": [
    "geohash2.encode(-10, 180000, precision=5)"
   ]
  },
  {
   "cell_type": "code",
   "execution_count": 35,
   "id": "3a375b2b-e02b-4f43-a681-08b856a38b00",
   "metadata": {
    "tags": []
   },
   "outputs": [],
   "source": [
    "# create comparison output\n",
    "df_geohash2 = pd.DataFrame(columns = ['lat', 'long', 'geohash'])  \n",
    "for lat in range (-90, 100, 10):\n",
    "    for long in range (-180, 190, 10):\n",
    "        try:\n",
    "            geohash_output = geohash2.encode(lat, long, precision=precision_var)\n",
    "        except:\n",
    "            geohash_output = \"ERROR\"\n",
    "#        print(lat,long,geohash_output)\n",
    "        df_geohash2 = pd.concat([df_geohash2, pd.DataFrame.from_records([{'lat': lat, 'long': long, 'geohash': geohash_output}])])"
   ]
  },
  {
   "cell_type": "code",
   "execution_count": 36,
   "id": "f8b6de67-a88b-4d07-9dfe-131893724f4e",
   "metadata": {
    "tags": []
   },
   "outputs": [
    {
     "name": "stdout",
     "output_type": "stream",
     "text": [
      "1min 5s ± 0 ns per loop (mean ± std. dev. of 1 run, 1 loop each)\n"
     ]
    },
    {
     "data": {
      "text/plain": [
       "<TimeitResult : 1min 5s ± 0 ns per loop (mean ± std. dev. of 1 run, 1 loop each)>"
      ]
     },
     "execution_count": 36,
     "metadata": {},
     "output_type": "execute_result"
    }
   ],
   "source": [
    "%%timeit -r 1 -n 1 -o\n",
    "# time results \n",
    "for lat in np.arange(-90, 90.1, 0.1):\n",
    "    for long in np.arange(-180, 180.1, 0.1):\n",
    "        geohash_output = geohash2.encode(lat, long, precision=precision_var)"
   ]
  },
  {
   "cell_type": "code",
   "execution_count": 37,
   "id": "061e4f13-ad4c-42ec-ab06-87b1f45a4eea",
   "metadata": {
    "tags": []
   },
   "outputs": [
    {
     "data": {
      "text/plain": [
       "65.35506511107087"
      ]
     },
     "execution_count": 37,
     "metadata": {},
     "output_type": "execute_result"
    }
   ],
   "source": [
    "time_geohash2 = _\n",
    "time_geohash2.average"
   ]
  },
  {
   "cell_type": "markdown",
   "id": "e6e6bfeb-3efc-439d-be69-c46405662ef2",
   "metadata": {},
   "source": [
    "## pygeohash-fast\n",
    "https://pypi.org/project/pygeohash-fast/"
   ]
  },
  {
   "cell_type": "code",
   "execution_count": 39,
   "id": "563cf0cc-b50f-4f18-966d-154d65cb3e5f",
   "metadata": {
    "tags": []
   },
   "outputs": [
    {
     "name": "stdout",
     "output_type": "stream",
     "text": [
      "Collecting pygeohash-fast\n",
      "  Using cached pygeohash_fast-0.3.0-cp37-abi3-manylinux_2_5_x86_64.manylinux1_x86_64.whl (272 kB)\n",
      "Installing collected packages: pygeohash-fast\n",
      "Successfully installed pygeohash-fast-0.3.0\n",
      "Note: you may need to restart the kernel to use updated packages.\n"
     ]
    }
   ],
   "source": [
    "pip install pygeohash-fast"
   ]
  },
  {
   "cell_type": "code",
   "execution_count": 40,
   "id": "493285bb-ef6c-44d1-af3b-a716702d91f3",
   "metadata": {
    "tags": []
   },
   "outputs": [],
   "source": [
    "import pygeohash_fast as pghfast"
   ]
  },
  {
   "cell_type": "code",
   "execution_count": 150,
   "id": "3d40dc82-86ca-4843-8e72-d4ad8407c1a1",
   "metadata": {
    "tags": []
   },
   "outputs": [
    {
     "ename": "Exception",
     "evalue": "invalid coordinate range: Coordinate { x: -180.1, y: -0.1 }",
     "output_type": "error",
     "traceback": [
      "\u001b[0;31m---------------------------------------------------------------------------\u001b[0m",
      "\u001b[0;31mException\u001b[0m                                 Traceback (most recent call last)",
      "Cell \u001b[0;32mIn[150], line 2\u001b[0m\n\u001b[1;32m      1\u001b[0m \u001b[38;5;66;03m######## NB - THIS IS THE OPPOSITE WAY ROUND - longitude, latitude\u001b[39;00m\n\u001b[0;32m----> 2\u001b[0m \u001b[43mpghfast\u001b[49m\u001b[38;5;241;43m.\u001b[39;49m\u001b[43mencode\u001b[49m\u001b[43m(\u001b[49m\u001b[38;5;241;43m-\u001b[39;49m\u001b[38;5;241;43m180.1\u001b[39;49m\u001b[43m,\u001b[49m\u001b[43m \u001b[49m\u001b[38;5;241;43m-\u001b[39;49m\u001b[38;5;241;43m0.1\u001b[39;49m\u001b[43m,\u001b[49m\u001b[43m \u001b[49m\u001b[38;5;241;43m9\u001b[39;49m\u001b[43m)\u001b[49m\n",
      "\u001b[0;31mException\u001b[0m: invalid coordinate range: Coordinate { x: -180.1, y: -0.1 }"
     ]
    }
   ],
   "source": [
    "######## NB - THIS IS THE OPPOSITE WAY ROUND - longitude, latitude\n",
    "pghfast.encode(-180.1, -0.1, 9)"
   ]
  },
  {
   "cell_type": "code",
   "execution_count": 42,
   "id": "de6a6226-697b-466f-92c5-c62cadd3a42a",
   "metadata": {
    "tags": []
   },
   "outputs": [],
   "source": [
    "# create comparison output\n",
    "df_pygeohashfast = pd.DataFrame(columns = ['lat', 'long', 'geohash'])  \n",
    "for lat in range (-90, 100, 10):\n",
    "    for long in range (-180, 190, 10):\n",
    "        try:\n",
    "            geohash_output = pghfast.encode(long, lat, precision_var)\n",
    "        except:\n",
    "            geohash_output = \"ERROR\"\n",
    "#        print(lat,long,geohash_output)\n",
    "        df_pygeohashfast = pd.concat([df_pygeohashfast, pd.DataFrame.from_records([{'lat': lat, 'long': long, 'geohash': geohash_output}])])"
   ]
  },
  {
   "cell_type": "code",
   "execution_count": 43,
   "id": "36137da7-7a63-4db4-b53d-9c7b2f6ded78",
   "metadata": {
    "tags": []
   },
   "outputs": [
    {
     "name": "stdout",
     "output_type": "stream",
     "text": [
      "2.23 s ± 0 ns per loop (mean ± std. dev. of 1 run, 1 loop each)\n"
     ]
    },
    {
     "data": {
      "text/plain": [
       "<TimeitResult : 2.23 s ± 0 ns per loop (mean ± std. dev. of 1 run, 1 loop each)>"
      ]
     },
     "execution_count": 43,
     "metadata": {},
     "output_type": "execute_result"
    }
   ],
   "source": [
    "%%timeit -r 1 -n 1 -o\n",
    "# time results \n",
    "for lat in np.arange(-90, 90.1, 0.1):\n",
    "    for long in np.arange(-180, 180.1, 0.1):\n",
    "            geohash_output = pghfast.encode(long, lat, precision_var)"
   ]
  },
  {
   "cell_type": "code",
   "execution_count": 44,
   "id": "bf669e2d-47e5-4690-9aec-65f8d0f64ef6",
   "metadata": {
    "tags": []
   },
   "outputs": [
    {
     "data": {
      "text/plain": [
       "2.2288011629134417"
      ]
     },
     "execution_count": 44,
     "metadata": {},
     "output_type": "execute_result"
    }
   ],
   "source": [
    "time_pygeohashfast = _\n",
    "time_pygeohashfast.average"
   ]
  },
  {
   "cell_type": "markdown",
   "id": "7a1a1eb2-a14f-4b78-9c52-83d63e73de29",
   "metadata": {},
   "source": [
    "## geolib\n",
    "https://pypi.org/project/geolib/"
   ]
  },
  {
   "cell_type": "code",
   "execution_count": 45,
   "id": "eef69c82-f93f-40b6-8a97-ac96364d4d40",
   "metadata": {
    "tags": []
   },
   "outputs": [
    {
     "name": "stdout",
     "output_type": "stream",
     "text": [
      "Collecting geolib\n",
      "  Using cached geolib-1.0.7-py3-none-any.whl (5.5 kB)\n",
      "Requirement already satisfied: future in /srv/conda/envs/notebook/lib/python3.10/site-packages (from geolib) (0.18.3)\n",
      "Installing collected packages: geolib\n",
      "Successfully installed geolib-1.0.7\n",
      "Note: you may need to restart the kernel to use updated packages.\n"
     ]
    }
   ],
   "source": [
    "pip install geolib"
   ]
  },
  {
   "cell_type": "code",
   "execution_count": 46,
   "id": "5c980f2e-e98c-4299-b382-0cbc1d8de51c",
   "metadata": {
    "tags": []
   },
   "outputs": [],
   "source": [
    "from geolib import geohash as geolibgeohash"
   ]
  },
  {
   "cell_type": "code",
   "execution_count": 165,
   "id": "c8b233ac-bf59-4a6f-8a97-622c8a6b3d80",
   "metadata": {
    "tags": []
   },
   "outputs": [
    {
     "data": {
      "text/plain": [
       "'h040h2081'"
      ]
     },
     "execution_count": 165,
     "metadata": {},
     "output_type": "execute_result"
    }
   ],
   "source": [
    "geolibgeohash.encode(-900000000000, 3, 9)"
   ]
  },
  {
   "cell_type": "code",
   "execution_count": 48,
   "id": "ef00c748-90d7-405a-9167-3017e318348f",
   "metadata": {
    "tags": []
   },
   "outputs": [],
   "source": [
    "# create comparison output\n",
    "df_geolibgeohash = pd.DataFrame(columns = ['lat', 'long', 'geohash'])  \n",
    "for lat in range (-90, 100, 10):\n",
    "    for long in range (-180, 190, 10):\n",
    "        import geohash\n",
    "        try:\n",
    "            geohash_output = geolibgeohash.encode(lat, long, precision_var)\n",
    "        except:\n",
    "            geohash_output = \"ERROR\"\n",
    "#        print(lat,long,geohash_output)\n",
    "        df_geolibgeohash = pd.concat([df_geolibgeohash, pd.DataFrame.from_records([{'lat': lat, 'long': long, 'geohash': geohash_output}])])"
   ]
  },
  {
   "cell_type": "code",
   "execution_count": 49,
   "id": "e1c21c46-6ed6-49ef-8a54-acd4e6290a9b",
   "metadata": {
    "tags": []
   },
   "outputs": [
    {
     "data": {
      "text/html": [
       "<div>\n",
       "<style scoped>\n",
       "    .dataframe tbody tr th:only-of-type {\n",
       "        vertical-align: middle;\n",
       "    }\n",
       "\n",
       "    .dataframe tbody tr th {\n",
       "        vertical-align: top;\n",
       "    }\n",
       "\n",
       "    .dataframe thead th {\n",
       "        text-align: right;\n",
       "    }\n",
       "</style>\n",
       "<table border=\"1\" class=\"dataframe\">\n",
       "  <thead>\n",
       "    <tr style=\"text-align: right;\">\n",
       "      <th></th>\n",
       "      <th>lat</th>\n",
       "      <th>long</th>\n",
       "      <th>geohash</th>\n",
       "    </tr>\n",
       "  </thead>\n",
       "  <tbody>\n",
       "    <tr>\n",
       "      <th>0</th>\n",
       "      <td>-90</td>\n",
       "      <td>-180</td>\n",
       "      <td>000000000</td>\n",
       "    </tr>\n",
       "    <tr>\n",
       "      <th>0</th>\n",
       "      <td>-90</td>\n",
       "      <td>-170</td>\n",
       "      <td>00p0581b0</td>\n",
       "    </tr>\n",
       "  </tbody>\n",
       "</table>\n",
       "</div>"
      ],
      "text/plain": [
       "   lat  long    geohash\n",
       "0  -90  -180  000000000\n",
       "0  -90  -170  00p0581b0"
      ]
     },
     "execution_count": 49,
     "metadata": {},
     "output_type": "execute_result"
    }
   ],
   "source": [
    "df_geolibgeohash.head(2)"
   ]
  },
  {
   "cell_type": "code",
   "execution_count": 50,
   "id": "dd73e8cc-5d2e-45f2-b009-856b7f23197d",
   "metadata": {
    "tags": []
   },
   "outputs": [
    {
     "name": "stdout",
     "output_type": "stream",
     "text": [
      "2min 32s ± 0 ns per loop (mean ± std. dev. of 1 run, 1 loop each)\n"
     ]
    },
    {
     "data": {
      "text/plain": [
       "<TimeitResult : 2min 32s ± 0 ns per loop (mean ± std. dev. of 1 run, 1 loop each)>"
      ]
     },
     "execution_count": 50,
     "metadata": {},
     "output_type": "execute_result"
    }
   ],
   "source": [
    "%%timeit -r 1 -n 1 -o\n",
    "# time results \n",
    "for lat in np.arange(-90, 90.1, 0.1):\n",
    "    for long in np.arange(-180, 180.1, 0.1):\n",
    "        geohash_output = geolibgeohash.encode(lat, long, precision_var)"
   ]
  },
  {
   "cell_type": "code",
   "execution_count": 51,
   "id": "53b03c8b-a904-43e3-ab8f-d8fb198ec885",
   "metadata": {
    "tags": []
   },
   "outputs": [
    {
     "data": {
      "text/plain": [
       "152.01624781196006"
      ]
     },
     "execution_count": 51,
     "metadata": {},
     "output_type": "execute_result"
    }
   ],
   "source": [
    "time_geolib = _\n",
    "time_geolib.average"
   ]
  },
  {
   "cell_type": "markdown",
   "id": "ab80c027-c64e-4345-90f1-25caeba7e9d4",
   "metadata": {
    "tags": []
   },
   "source": [
    "## COMPARISON"
   ]
  },
  {
   "cell_type": "code",
   "execution_count": 81,
   "id": "45261470-3321-4321-8f1d-8688c031f54a",
   "metadata": {
    "tags": []
   },
   "outputs": [
    {
     "data": {
      "text/html": [
       "<div>\n",
       "<style scoped>\n",
       "    .dataframe tbody tr th:only-of-type {\n",
       "        vertical-align: middle;\n",
       "    }\n",
       "\n",
       "    .dataframe tbody tr th {\n",
       "        vertical-align: top;\n",
       "    }\n",
       "\n",
       "    .dataframe thead th {\n",
       "        text-align: right;\n",
       "    }\n",
       "</style>\n",
       "<table border=\"1\" class=\"dataframe\">\n",
       "  <thead>\n",
       "    <tr style=\"text-align: right;\">\n",
       "      <th></th>\n",
       "      <th>python_geohash</th>\n",
       "      <th>geohash_tools</th>\n",
       "      <th>pygeohash</th>\n",
       "      <th>geohash2</th>\n",
       "      <th>pygeohashfast</th>\n",
       "      <th>geolib</th>\n",
       "    </tr>\n",
       "  </thead>\n",
       "  <tbody>\n",
       "    <tr>\n",
       "      <th>0</th>\n",
       "      <td>4.262457</td>\n",
       "      <td>81.65694</td>\n",
       "      <td>64.304857</td>\n",
       "      <td>65.355065</td>\n",
       "      <td>2.228801</td>\n",
       "      <td>152.016248</td>\n",
       "    </tr>\n",
       "  </tbody>\n",
       "</table>\n",
       "</div>"
      ],
      "text/plain": [
       "   python_geohash  geohash_tools  pygeohash   geohash2  pygeohashfast  \\\n",
       "0        4.262457       81.65694  64.304857  65.355065       2.228801   \n",
       "\n",
       "       geolib  \n",
       "0  152.016248  "
      ]
     },
     "execution_count": 81,
     "metadata": {},
     "output_type": "execute_result"
    }
   ],
   "source": [
    "time_in_seconds = pd.DataFrame.from_records([{'python_geohash': time_python_geohash.average, 'geohash_tools': time_geohash_tools.average, 'pygeohash': time_pygeohash.average, 'geohash2': time_geohash2.average, 'pygeohashfast': time_pygeohashfast.average, 'geolib': time_geolib.average}])\n",
    "\n",
    "time_in_seconds"
   ]
  },
  {
   "cell_type": "code",
   "execution_count": 53,
   "id": "cdeb3a01-eae2-4073-b1ba-60ffbff38d53",
   "metadata": {
    "tags": []
   },
   "outputs": [],
   "source": [
    "#df_geohash_tools"
   ]
  },
  {
   "cell_type": "code",
   "execution_count": 54,
   "id": "a57e554e-d9a8-41a6-be39-507435457959",
   "metadata": {
    "tags": []
   },
   "outputs": [],
   "source": [
    "#df_pygeohash"
   ]
  },
  {
   "cell_type": "code",
   "execution_count": 55,
   "id": "d9df7ca6-4fac-4bfa-82bc-af77ae0a605e",
   "metadata": {
    "tags": []
   },
   "outputs": [],
   "source": [
    "#df_python_geohash"
   ]
  },
  {
   "cell_type": "code",
   "execution_count": 56,
   "id": "bce64eac-5431-416c-aba0-f86483295177",
   "metadata": {
    "tags": []
   },
   "outputs": [],
   "source": [
    "#df_pygeohashfast"
   ]
  },
  {
   "cell_type": "code",
   "execution_count": 170,
   "id": "04729efd-8532-4696-ad7a-0b7929d296fa",
   "metadata": {
    "tags": []
   },
   "outputs": [],
   "source": [
    "df_comb = df_python_geohash[[\"lat\", \"long\"]]\n",
    "\n",
    "df_comb[\"df_python_geohash\"] = df_python_geohash[\"geohash\"]\n",
    "df_comb[\"df_geohash_tools\"] = df_geohash_tools[\"geohash\"]\n",
    "df_comb[\"df_pygeohash\"] = df_pygeohash[\"geohash\"]\n",
    "df_comb[\"df_geohash2\"] = df_geohash2[\"geohash\"]\n",
    "df_comb[\"df_pygeohashfast\"] = df_pygeohashfast[\"geohash\"]\n",
    "df_comb[\"df_geolib\"] = df_geolibgeohash[\"geohash\"]\n",
    "\n",
    "\n",
    "df_comb = df_comb.reset_index(drop=True)"
   ]
  },
  {
   "cell_type": "code",
   "execution_count": 171,
   "id": "273ae5d9-ab7d-4848-9107-5d3f1a36c6cc",
   "metadata": {
    "tags": []
   },
   "outputs": [
    {
     "data": {
      "text/html": [
       "<div>\n",
       "<style scoped>\n",
       "    .dataframe tbody tr th:only-of-type {\n",
       "        vertical-align: middle;\n",
       "    }\n",
       "\n",
       "    .dataframe tbody tr th {\n",
       "        vertical-align: top;\n",
       "    }\n",
       "\n",
       "    .dataframe thead th {\n",
       "        text-align: right;\n",
       "    }\n",
       "</style>\n",
       "<table border=\"1\" class=\"dataframe\">\n",
       "  <thead>\n",
       "    <tr style=\"text-align: right;\">\n",
       "      <th></th>\n",
       "      <th>lat</th>\n",
       "      <th>long</th>\n",
       "      <th>df_python_geohash</th>\n",
       "      <th>df_geohash_tools</th>\n",
       "      <th>df_pygeohash</th>\n",
       "      <th>df_geohash2</th>\n",
       "      <th>df_pygeohashfast</th>\n",
       "      <th>df_geolib</th>\n",
       "    </tr>\n",
       "  </thead>\n",
       "  <tbody>\n",
       "    <tr>\n",
       "      <th>0</th>\n",
       "      <td>-90</td>\n",
       "      <td>-180</td>\n",
       "      <td>000000000</td>\n",
       "      <td>000000000</td>\n",
       "      <td>000000000</td>\n",
       "      <td>000000000</td>\n",
       "      <td>000000000</td>\n",
       "      <td>000000000</td>\n",
       "    </tr>\n",
       "    <tr>\n",
       "      <th>1</th>\n",
       "      <td>-90</td>\n",
       "      <td>-170</td>\n",
       "      <td>00p0581b0</td>\n",
       "      <td>00p0581b0</td>\n",
       "      <td>00p0581b0</td>\n",
       "      <td>00p0581b0</td>\n",
       "      <td>00p0581b0</td>\n",
       "      <td>00p0581b0</td>\n",
       "    </tr>\n",
       "    <tr>\n",
       "      <th>2</th>\n",
       "      <td>-90</td>\n",
       "      <td>-160</td>\n",
       "      <td>02n0p0581</td>\n",
       "      <td>02n0p0581</td>\n",
       "      <td>02n0p0581</td>\n",
       "      <td>02n0p0581</td>\n",
       "      <td>02n0p0581</td>\n",
       "      <td>02n0p0581</td>\n",
       "    </tr>\n",
       "    <tr>\n",
       "      <th>3</th>\n",
       "      <td>-90</td>\n",
       "      <td>-150</td>\n",
       "      <td>08j248j24</td>\n",
       "      <td>08j248j24</td>\n",
       "      <td>08j248j24</td>\n",
       "      <td>08j248j24</td>\n",
       "      <td>08j248j24</td>\n",
       "      <td>08j248j24</td>\n",
       "    </tr>\n",
       "    <tr>\n",
       "      <th>4</th>\n",
       "      <td>-90</td>\n",
       "      <td>-140</td>\n",
       "      <td>0bh2n0p05</td>\n",
       "      <td>0bh2n0p05</td>\n",
       "      <td>0bh2n0p05</td>\n",
       "      <td>0bh2n0p05</td>\n",
       "      <td>0bh2n0p05</td>\n",
       "      <td>0bh2n0p05</td>\n",
       "    </tr>\n",
       "  </tbody>\n",
       "</table>\n",
       "</div>"
      ],
      "text/plain": [
       "   lat  long df_python_geohash df_geohash_tools df_pygeohash df_geohash2  \\\n",
       "0  -90  -180         000000000        000000000    000000000   000000000   \n",
       "1  -90  -170         00p0581b0        00p0581b0    00p0581b0   00p0581b0   \n",
       "2  -90  -160         02n0p0581        02n0p0581    02n0p0581   02n0p0581   \n",
       "3  -90  -150         08j248j24        08j248j24    08j248j24   08j248j24   \n",
       "4  -90  -140         0bh2n0p05        0bh2n0p05    0bh2n0p05   0bh2n0p05   \n",
       "\n",
       "  df_pygeohashfast  df_geolib  \n",
       "0        000000000  000000000  \n",
       "1        00p0581b0  00p0581b0  \n",
       "2        02n0p0581  02n0p0581  \n",
       "3        08j248j24  08j248j24  \n",
       "4        0bh2n0p05  0bh2n0p05  "
      ]
     },
     "execution_count": 171,
     "metadata": {},
     "output_type": "execute_result"
    }
   ],
   "source": [
    "df_comb.head()"
   ]
  },
  {
   "cell_type": "code",
   "execution_count": 295,
   "id": "69d2d2ce-8ef5-428d-991d-42e0de038595",
   "metadata": {
    "tags": []
   },
   "outputs": [],
   "source": [
    "df_comb.to_csv('Geohash_comparison.csv')"
   ]
  },
  {
   "cell_type": "code",
   "execution_count": 172,
   "id": "9208e253-633f-44d3-a07c-3b52e601809e",
   "metadata": {
    "tags": []
   },
   "outputs": [
    {
     "data": {
      "text/html": [
       "<div>\n",
       "<style scoped>\n",
       "    .dataframe tbody tr th:only-of-type {\n",
       "        vertical-align: middle;\n",
       "    }\n",
       "\n",
       "    .dataframe tbody tr th {\n",
       "        vertical-align: top;\n",
       "    }\n",
       "\n",
       "    .dataframe thead th {\n",
       "        text-align: right;\n",
       "    }\n",
       "</style>\n",
       "<table border=\"1\" class=\"dataframe\">\n",
       "  <thead>\n",
       "    <tr style=\"text-align: right;\">\n",
       "      <th></th>\n",
       "      <th>lat</th>\n",
       "      <th>long</th>\n",
       "      <th>df_python_geohash</th>\n",
       "      <th>df_geohash_tools</th>\n",
       "      <th>df_pygeohash</th>\n",
       "      <th>df_geohash2</th>\n",
       "      <th>df_pygeohashfast</th>\n",
       "      <th>df_geolib</th>\n",
       "    </tr>\n",
       "  </thead>\n",
       "  <tbody>\n",
       "  </tbody>\n",
       "</table>\n",
       "</div>"
      ],
      "text/plain": [
       "Empty DataFrame\n",
       "Columns: [lat, long, df_python_geohash, df_geohash_tools, df_pygeohash, df_geohash2, df_pygeohashfast, df_geolib]\n",
       "Index: []"
      ]
     },
     "execution_count": 172,
     "metadata": {},
     "output_type": "execute_result"
    }
   ],
   "source": [
    "df_comb[df_comb['df_geohash_tools'] != df_comb['df_pygeohash']]\n",
    "## df_geohash_tools and df_pygeohash are identical"
   ]
  },
  {
   "cell_type": "code",
   "execution_count": 179,
   "id": "69b955fa-5fe1-4085-a072-87c4e38c151a",
   "metadata": {},
   "outputs": [
    {
     "data": {
      "text/html": [
       "<div>\n",
       "<style scoped>\n",
       "    .dataframe tbody tr th:only-of-type {\n",
       "        vertical-align: middle;\n",
       "    }\n",
       "\n",
       "    .dataframe tbody tr th {\n",
       "        vertical-align: top;\n",
       "    }\n",
       "\n",
       "    .dataframe thead th {\n",
       "        text-align: right;\n",
       "    }\n",
       "</style>\n",
       "<table border=\"1\" class=\"dataframe\">\n",
       "  <thead>\n",
       "    <tr style=\"text-align: right;\">\n",
       "      <th></th>\n",
       "      <th>lat</th>\n",
       "      <th>long</th>\n",
       "      <th>df_python_geohash</th>\n",
       "      <th>df_geohash_tools</th>\n",
       "      <th>df_pygeohash</th>\n",
       "      <th>df_geohash2</th>\n",
       "      <th>df_pygeohashfast</th>\n",
       "      <th>df_geolib</th>\n",
       "    </tr>\n",
       "  </thead>\n",
       "  <tbody>\n",
       "  </tbody>\n",
       "</table>\n",
       "</div>"
      ],
      "text/plain": [
       "Empty DataFrame\n",
       "Columns: [lat, long, df_python_geohash, df_geohash_tools, df_pygeohash, df_geohash2, df_pygeohashfast, df_geolib]\n",
       "Index: []"
      ]
     },
     "execution_count": 179,
     "metadata": {},
     "output_type": "execute_result"
    }
   ],
   "source": [
    "df_comb[df_comb['df_geohash_tools'] != df_comb['df_geohash2']]\n",
    "## df_geohash_tools and df_geohash2 are identical"
   ]
  },
  {
   "cell_type": "code",
   "execution_count": 173,
   "id": "12031542-4ef4-4931-b79a-bde14ed85a2b",
   "metadata": {
    "tags": []
   },
   "outputs": [
    {
     "data": {
      "text/html": [
       "<div>\n",
       "<style scoped>\n",
       "    .dataframe tbody tr th:only-of-type {\n",
       "        vertical-align: middle;\n",
       "    }\n",
       "\n",
       "    .dataframe tbody tr th {\n",
       "        vertical-align: top;\n",
       "    }\n",
       "\n",
       "    .dataframe thead th {\n",
       "        text-align: right;\n",
       "    }\n",
       "</style>\n",
       "<table border=\"1\" class=\"dataframe\">\n",
       "  <thead>\n",
       "    <tr style=\"text-align: right;\">\n",
       "      <th></th>\n",
       "      <th>lat</th>\n",
       "      <th>long</th>\n",
       "      <th>df_python_geohash</th>\n",
       "      <th>df_geohash_tools</th>\n",
       "      <th>df_pygeohash</th>\n",
       "      <th>df_geohash2</th>\n",
       "      <th>df_pygeohashfast</th>\n",
       "      <th>df_geolib</th>\n",
       "    </tr>\n",
       "  </thead>\n",
       "  <tbody>\n",
       "    <tr>\n",
       "      <th>9</th>\n",
       "      <td>-90</td>\n",
       "      <td>-90</td>\n",
       "      <td>400000000</td>\n",
       "      <td>1bpbpbpbp</td>\n",
       "      <td>1bpbpbpbp</td>\n",
       "      <td>1bpbpbpbp</td>\n",
       "      <td>400000000</td>\n",
       "      <td>400000000</td>\n",
       "    </tr>\n",
       "    <tr>\n",
       "      <th>18</th>\n",
       "      <td>-90</td>\n",
       "      <td>0</td>\n",
       "      <td>h00000000</td>\n",
       "      <td>5bpbpbpbp</td>\n",
       "      <td>5bpbpbpbp</td>\n",
       "      <td>5bpbpbpbp</td>\n",
       "      <td>h00000000</td>\n",
       "      <td>h00000000</td>\n",
       "    </tr>\n",
       "    <tr>\n",
       "      <th>27</th>\n",
       "      <td>-90</td>\n",
       "      <td>90</td>\n",
       "      <td>n00000000</td>\n",
       "      <td>jbpbpbpbp</td>\n",
       "      <td>jbpbpbpbp</td>\n",
       "      <td>jbpbpbpbp</td>\n",
       "      <td>n00000000</td>\n",
       "      <td>n00000000</td>\n",
       "    </tr>\n",
       "    <tr>\n",
       "      <th>36</th>\n",
       "      <td>-90</td>\n",
       "      <td>180</td>\n",
       "      <td>000000000</td>\n",
       "      <td>pbpbpbpbp</td>\n",
       "      <td>pbpbpbpbp</td>\n",
       "      <td>pbpbpbpbp</td>\n",
       "      <td>000000000</td>\n",
       "      <td>pbpbpbpbp</td>\n",
       "    </tr>\n",
       "    <tr>\n",
       "      <th>46</th>\n",
       "      <td>-80</td>\n",
       "      <td>-90</td>\n",
       "      <td>41b0bh2n0</td>\n",
       "      <td>1czbzuryp</td>\n",
       "      <td>1czbzuryp</td>\n",
       "      <td>1czbzuryp</td>\n",
       "      <td>41b0bh2n0</td>\n",
       "      <td>41b0bh2n0</td>\n",
       "    </tr>\n",
       "    <tr>\n",
       "      <th>...</th>\n",
       "      <td>...</td>\n",
       "      <td>...</td>\n",
       "      <td>...</td>\n",
       "      <td>...</td>\n",
       "      <td>...</td>\n",
       "      <td>...</td>\n",
       "      <td>...</td>\n",
       "      <td>...</td>\n",
       "    </tr>\n",
       "    <tr>\n",
       "      <th>698</th>\n",
       "      <td>90</td>\n",
       "      <td>140</td>\n",
       "      <td>ERROR</td>\n",
       "      <td>zpgxczbzu</td>\n",
       "      <td>zpgxczbzu</td>\n",
       "      <td>zpgxczbzu</td>\n",
       "      <td>p0581b0bh</td>\n",
       "      <td>zpgxczbzu</td>\n",
       "    </tr>\n",
       "    <tr>\n",
       "      <th>699</th>\n",
       "      <td>90</td>\n",
       "      <td>150</td>\n",
       "      <td>ERROR</td>\n",
       "      <td>zrfxvrfxv</td>\n",
       "      <td>zrfxvrfxv</td>\n",
       "      <td>zrfxvrfxv</td>\n",
       "      <td>p248j248j</td>\n",
       "      <td>zrfxvrfxv</td>\n",
       "    </tr>\n",
       "    <tr>\n",
       "      <th>700</th>\n",
       "      <td>90</td>\n",
       "      <td>160</td>\n",
       "      <td>ERROR</td>\n",
       "      <td>zxczbzury</td>\n",
       "      <td>zxczbzury</td>\n",
       "      <td>zxczbzury</td>\n",
       "      <td>p81b0bh2n</td>\n",
       "      <td>zxczbzury</td>\n",
       "    </tr>\n",
       "    <tr>\n",
       "      <th>701</th>\n",
       "      <td>90</td>\n",
       "      <td>170</td>\n",
       "      <td>ERROR</td>\n",
       "      <td>zzbzurypz</td>\n",
       "      <td>zzbzurypz</td>\n",
       "      <td>zzbzurypz</td>\n",
       "      <td>pb0bh2n0p</td>\n",
       "      <td>zzbzurypz</td>\n",
       "    </tr>\n",
       "    <tr>\n",
       "      <th>702</th>\n",
       "      <td>90</td>\n",
       "      <td>180</td>\n",
       "      <td>ERROR</td>\n",
       "      <td>zzzzzzzzz</td>\n",
       "      <td>zzzzzzzzz</td>\n",
       "      <td>zzzzzzzzz</td>\n",
       "      <td>000000000</td>\n",
       "      <td>zzzzzzzzz</td>\n",
       "    </tr>\n",
       "  </tbody>\n",
       "</table>\n",
       "<p>142 rows × 8 columns</p>\n",
       "</div>"
      ],
      "text/plain": [
       "     lat long df_python_geohash df_geohash_tools df_pygeohash df_geohash2  \\\n",
       "9    -90  -90         400000000        1bpbpbpbp    1bpbpbpbp   1bpbpbpbp   \n",
       "18   -90    0         h00000000        5bpbpbpbp    5bpbpbpbp   5bpbpbpbp   \n",
       "27   -90   90         n00000000        jbpbpbpbp    jbpbpbpbp   jbpbpbpbp   \n",
       "36   -90  180         000000000        pbpbpbpbp    pbpbpbpbp   pbpbpbpbp   \n",
       "46   -80  -90         41b0bh2n0        1czbzuryp    1czbzuryp   1czbzuryp   \n",
       "..   ...  ...               ...              ...          ...         ...   \n",
       "698   90  140             ERROR        zpgxczbzu    zpgxczbzu   zpgxczbzu   \n",
       "699   90  150             ERROR        zrfxvrfxv    zrfxvrfxv   zrfxvrfxv   \n",
       "700   90  160             ERROR        zxczbzury    zxczbzury   zxczbzury   \n",
       "701   90  170             ERROR        zzbzurypz    zzbzurypz   zzbzurypz   \n",
       "702   90  180             ERROR        zzzzzzzzz    zzzzzzzzz   zzzzzzzzz   \n",
       "\n",
       "    df_pygeohashfast  df_geolib  \n",
       "9          400000000  400000000  \n",
       "18         h00000000  h00000000  \n",
       "27         n00000000  n00000000  \n",
       "36         000000000  pbpbpbpbp  \n",
       "46         41b0bh2n0  41b0bh2n0  \n",
       "..               ...        ...  \n",
       "698        p0581b0bh  zpgxczbzu  \n",
       "699        p248j248j  zrfxvrfxv  \n",
       "700        p81b0bh2n  zxczbzury  \n",
       "701        pb0bh2n0p  zzbzurypz  \n",
       "702        000000000  zzzzzzzzz  \n",
       "\n",
       "[142 rows x 8 columns]"
      ]
     },
     "execution_count": 173,
     "metadata": {},
     "output_type": "execute_result"
    }
   ],
   "source": [
    "df_comb[df_comb['df_python_geohash'] != df_comb['df_pygeohash']]\n"
   ]
  },
  {
   "cell_type": "code",
   "execution_count": 175,
   "id": "a832c29c-2fb3-44d9-a87a-ce3dfe27fdd8",
   "metadata": {
    "tags": []
   },
   "outputs": [
    {
     "data": {
      "text/html": [
       "<div>\n",
       "<style scoped>\n",
       "    .dataframe tbody tr th:only-of-type {\n",
       "        vertical-align: middle;\n",
       "    }\n",
       "\n",
       "    .dataframe tbody tr th {\n",
       "        vertical-align: top;\n",
       "    }\n",
       "\n",
       "    .dataframe thead th {\n",
       "        text-align: right;\n",
       "    }\n",
       "</style>\n",
       "<table border=\"1\" class=\"dataframe\">\n",
       "  <thead>\n",
       "    <tr style=\"text-align: right;\">\n",
       "      <th></th>\n",
       "      <th>lat</th>\n",
       "      <th>long</th>\n",
       "      <th>df_python_geohash</th>\n",
       "      <th>df_geohash_tools</th>\n",
       "      <th>df_pygeohash</th>\n",
       "      <th>df_geohash2</th>\n",
       "      <th>df_pygeohashfast</th>\n",
       "      <th>df_geolib</th>\n",
       "    </tr>\n",
       "  </thead>\n",
       "  <tbody>\n",
       "    <tr>\n",
       "      <th>36</th>\n",
       "      <td>-90</td>\n",
       "      <td>180</td>\n",
       "      <td>000000000</td>\n",
       "      <td>pbpbpbpbp</td>\n",
       "      <td>pbpbpbpbp</td>\n",
       "      <td>pbpbpbpbp</td>\n",
       "      <td>000000000</td>\n",
       "      <td>pbpbpbpbp</td>\n",
       "    </tr>\n",
       "    <tr>\n",
       "      <th>73</th>\n",
       "      <td>-80</td>\n",
       "      <td>180</td>\n",
       "      <td>01b0bh2n0</td>\n",
       "      <td>pczbzuryp</td>\n",
       "      <td>pczbzuryp</td>\n",
       "      <td>pczbzuryp</td>\n",
       "      <td>01b0bh2n0</td>\n",
       "      <td>pczbzuryp</td>\n",
       "    </tr>\n",
       "    <tr>\n",
       "      <th>110</th>\n",
       "      <td>-70</td>\n",
       "      <td>180</td>\n",
       "      <td>0581b0bh2</td>\n",
       "      <td>pgxczbzur</td>\n",
       "      <td>pgxczbzur</td>\n",
       "      <td>pgxczbzur</td>\n",
       "      <td>0581b0bh2</td>\n",
       "      <td>pgxczbzur</td>\n",
       "    </tr>\n",
       "    <tr>\n",
       "      <th>147</th>\n",
       "      <td>-60</td>\n",
       "      <td>180</td>\n",
       "      <td>0j248j248</td>\n",
       "      <td>pvrfxvrfx</td>\n",
       "      <td>pvrfxvrfx</td>\n",
       "      <td>pvrfxvrfx</td>\n",
       "      <td>0j248j248</td>\n",
       "      <td>pvrfxvrfx</td>\n",
       "    </tr>\n",
       "    <tr>\n",
       "      <th>184</th>\n",
       "      <td>-50</td>\n",
       "      <td>180</td>\n",
       "      <td>0p0581b0b</td>\n",
       "      <td>pzpgxczbz</td>\n",
       "      <td>pzpgxczbz</td>\n",
       "      <td>pzpgxczbz</td>\n",
       "      <td>0p0581b0b</td>\n",
       "      <td>pzpgxczbz</td>\n",
       "    </tr>\n",
       "    <tr>\n",
       "      <th>221</th>\n",
       "      <td>-40</td>\n",
       "      <td>180</td>\n",
       "      <td>20bh2n0p0</td>\n",
       "      <td>rbzurypzp</td>\n",
       "      <td>rbzurypzp</td>\n",
       "      <td>rbzurypzp</td>\n",
       "      <td>20bh2n0p0</td>\n",
       "      <td>rbzurypzp</td>\n",
       "    </tr>\n",
       "    <tr>\n",
       "      <th>258</th>\n",
       "      <td>-30</td>\n",
       "      <td>180</td>\n",
       "      <td>248j248j2</td>\n",
       "      <td>rfxvrfxvr</td>\n",
       "      <td>rfxvrfxvr</td>\n",
       "      <td>rfxvrfxvr</td>\n",
       "      <td>248j248j2</td>\n",
       "      <td>rfxvrfxvr</td>\n",
       "    </tr>\n",
       "    <tr>\n",
       "      <th>295</th>\n",
       "      <td>-20</td>\n",
       "      <td>180</td>\n",
       "      <td>2h2n0p058</td>\n",
       "      <td>rurypzpgx</td>\n",
       "      <td>rurypzpgx</td>\n",
       "      <td>rurypzpgx</td>\n",
       "      <td>2h2n0p058</td>\n",
       "      <td>rurypzpgx</td>\n",
       "    </tr>\n",
       "    <tr>\n",
       "      <th>332</th>\n",
       "      <td>-10</td>\n",
       "      <td>180</td>\n",
       "      <td>2n0p0581b</td>\n",
       "      <td>rypzpgxcz</td>\n",
       "      <td>rypzpgxcz</td>\n",
       "      <td>rypzpgxcz</td>\n",
       "      <td>2n0p0581b</td>\n",
       "      <td>rypzpgxcz</td>\n",
       "    </tr>\n",
       "    <tr>\n",
       "      <th>369</th>\n",
       "      <td>0</td>\n",
       "      <td>180</td>\n",
       "      <td>800000000</td>\n",
       "      <td>rzzzzzzzz</td>\n",
       "      <td>rzzzzzzzz</td>\n",
       "      <td>rzzzzzzzz</td>\n",
       "      <td>800000000</td>\n",
       "      <td>xbpbpbpbp</td>\n",
       "    </tr>\n",
       "    <tr>\n",
       "      <th>406</th>\n",
       "      <td>10</td>\n",
       "      <td>180</td>\n",
       "      <td>81b0bh2n0</td>\n",
       "      <td>xczbzuryp</td>\n",
       "      <td>xczbzuryp</td>\n",
       "      <td>xczbzuryp</td>\n",
       "      <td>81b0bh2n0</td>\n",
       "      <td>xczbzuryp</td>\n",
       "    </tr>\n",
       "    <tr>\n",
       "      <th>443</th>\n",
       "      <td>20</td>\n",
       "      <td>180</td>\n",
       "      <td>8581b0bh2</td>\n",
       "      <td>xgxczbzur</td>\n",
       "      <td>xgxczbzur</td>\n",
       "      <td>xgxczbzur</td>\n",
       "      <td>8581b0bh2</td>\n",
       "      <td>xgxczbzur</td>\n",
       "    </tr>\n",
       "    <tr>\n",
       "      <th>480</th>\n",
       "      <td>30</td>\n",
       "      <td>180</td>\n",
       "      <td>8j248j248</td>\n",
       "      <td>xvrfxvrfx</td>\n",
       "      <td>xvrfxvrfx</td>\n",
       "      <td>xvrfxvrfx</td>\n",
       "      <td>8j248j248</td>\n",
       "      <td>xvrfxvrfx</td>\n",
       "    </tr>\n",
       "    <tr>\n",
       "      <th>517</th>\n",
       "      <td>40</td>\n",
       "      <td>180</td>\n",
       "      <td>8p0581b0b</td>\n",
       "      <td>xzpgxczbz</td>\n",
       "      <td>xzpgxczbz</td>\n",
       "      <td>xzpgxczbz</td>\n",
       "      <td>8p0581b0b</td>\n",
       "      <td>xzpgxczbz</td>\n",
       "    </tr>\n",
       "    <tr>\n",
       "      <th>554</th>\n",
       "      <td>50</td>\n",
       "      <td>180</td>\n",
       "      <td>b0bh2n0p0</td>\n",
       "      <td>zbzurypzp</td>\n",
       "      <td>zbzurypzp</td>\n",
       "      <td>zbzurypzp</td>\n",
       "      <td>b0bh2n0p0</td>\n",
       "      <td>zbzurypzp</td>\n",
       "    </tr>\n",
       "    <tr>\n",
       "      <th>591</th>\n",
       "      <td>60</td>\n",
       "      <td>180</td>\n",
       "      <td>b48j248j2</td>\n",
       "      <td>zfxvrfxvr</td>\n",
       "      <td>zfxvrfxvr</td>\n",
       "      <td>zfxvrfxvr</td>\n",
       "      <td>b48j248j2</td>\n",
       "      <td>zfxvrfxvr</td>\n",
       "    </tr>\n",
       "    <tr>\n",
       "      <th>628</th>\n",
       "      <td>70</td>\n",
       "      <td>180</td>\n",
       "      <td>bh2n0p058</td>\n",
       "      <td>zurypzpgx</td>\n",
       "      <td>zurypzpgx</td>\n",
       "      <td>zurypzpgx</td>\n",
       "      <td>bh2n0p058</td>\n",
       "      <td>zurypzpgx</td>\n",
       "    </tr>\n",
       "    <tr>\n",
       "      <th>665</th>\n",
       "      <td>80</td>\n",
       "      <td>180</td>\n",
       "      <td>bn0p0581b</td>\n",
       "      <td>zypzpgxcz</td>\n",
       "      <td>zypzpgxcz</td>\n",
       "      <td>zypzpgxcz</td>\n",
       "      <td>bn0p0581b</td>\n",
       "      <td>zypzpgxcz</td>\n",
       "    </tr>\n",
       "    <tr>\n",
       "      <th>666</th>\n",
       "      <td>90</td>\n",
       "      <td>-180</td>\n",
       "      <td>ERROR</td>\n",
       "      <td>bpbpbpbpb</td>\n",
       "      <td>bpbpbpbpb</td>\n",
       "      <td>bpbpbpbpb</td>\n",
       "      <td>000000000</td>\n",
       "      <td>bpbpbpbpb</td>\n",
       "    </tr>\n",
       "    <tr>\n",
       "      <th>667</th>\n",
       "      <td>90</td>\n",
       "      <td>-170</td>\n",
       "      <td>ERROR</td>\n",
       "      <td>bpzpgxczb</td>\n",
       "      <td>bpzpgxczb</td>\n",
       "      <td>bpzpgxczb</td>\n",
       "      <td>00p0581b0</td>\n",
       "      <td>bpzpgxczb</td>\n",
       "    </tr>\n",
       "    <tr>\n",
       "      <th>668</th>\n",
       "      <td>90</td>\n",
       "      <td>-160</td>\n",
       "      <td>ERROR</td>\n",
       "      <td>brypzpgxc</td>\n",
       "      <td>brypzpgxc</td>\n",
       "      <td>brypzpgxc</td>\n",
       "      <td>02n0p0581</td>\n",
       "      <td>brypzpgxc</td>\n",
       "    </tr>\n",
       "    <tr>\n",
       "      <th>669</th>\n",
       "      <td>90</td>\n",
       "      <td>-150</td>\n",
       "      <td>ERROR</td>\n",
       "      <td>bxvrfxvrf</td>\n",
       "      <td>bxvrfxvrf</td>\n",
       "      <td>bxvrfxvrf</td>\n",
       "      <td>08j248j24</td>\n",
       "      <td>bxvrfxvrf</td>\n",
       "    </tr>\n",
       "    <tr>\n",
       "      <th>670</th>\n",
       "      <td>90</td>\n",
       "      <td>-140</td>\n",
       "      <td>ERROR</td>\n",
       "      <td>bzurypzpg</td>\n",
       "      <td>bzurypzpg</td>\n",
       "      <td>bzurypzpg</td>\n",
       "      <td>0bh2n0p05</td>\n",
       "      <td>bzurypzpg</td>\n",
       "    </tr>\n",
       "    <tr>\n",
       "      <th>671</th>\n",
       "      <td>90</td>\n",
       "      <td>-130</td>\n",
       "      <td>ERROR</td>\n",
       "      <td>cpgxczbzu</td>\n",
       "      <td>cpgxczbzu</td>\n",
       "      <td>cpgxczbzu</td>\n",
       "      <td>10581b0bh</td>\n",
       "      <td>cpgxczbzu</td>\n",
       "    </tr>\n",
       "    <tr>\n",
       "      <th>672</th>\n",
       "      <td>90</td>\n",
       "      <td>-120</td>\n",
       "      <td>ERROR</td>\n",
       "      <td>crfxvrfxv</td>\n",
       "      <td>crfxvrfxv</td>\n",
       "      <td>crfxvrfxv</td>\n",
       "      <td>1248j248j</td>\n",
       "      <td>crfxvrfxv</td>\n",
       "    </tr>\n",
       "    <tr>\n",
       "      <th>673</th>\n",
       "      <td>90</td>\n",
       "      <td>-110</td>\n",
       "      <td>ERROR</td>\n",
       "      <td>cxczbzury</td>\n",
       "      <td>cxczbzury</td>\n",
       "      <td>cxczbzury</td>\n",
       "      <td>181b0bh2n</td>\n",
       "      <td>cxczbzury</td>\n",
       "    </tr>\n",
       "    <tr>\n",
       "      <th>674</th>\n",
       "      <td>90</td>\n",
       "      <td>-100</td>\n",
       "      <td>ERROR</td>\n",
       "      <td>czbzurypz</td>\n",
       "      <td>czbzurypz</td>\n",
       "      <td>czbzurypz</td>\n",
       "      <td>1b0bh2n0p</td>\n",
       "      <td>czbzurypz</td>\n",
       "    </tr>\n",
       "    <tr>\n",
       "      <th>675</th>\n",
       "      <td>90</td>\n",
       "      <td>-90</td>\n",
       "      <td>ERROR</td>\n",
       "      <td>czzzzzzzz</td>\n",
       "      <td>czzzzzzzz</td>\n",
       "      <td>czzzzzzzz</td>\n",
       "      <td>400000000</td>\n",
       "      <td>fpbpbpbpb</td>\n",
       "    </tr>\n",
       "    <tr>\n",
       "      <th>676</th>\n",
       "      <td>90</td>\n",
       "      <td>-80</td>\n",
       "      <td>ERROR</td>\n",
       "      <td>fpzpgxczb</td>\n",
       "      <td>fpzpgxczb</td>\n",
       "      <td>fpzpgxczb</td>\n",
       "      <td>40p0581b0</td>\n",
       "      <td>fpzpgxczb</td>\n",
       "    </tr>\n",
       "    <tr>\n",
       "      <th>677</th>\n",
       "      <td>90</td>\n",
       "      <td>-70</td>\n",
       "      <td>ERROR</td>\n",
       "      <td>frypzpgxc</td>\n",
       "      <td>frypzpgxc</td>\n",
       "      <td>frypzpgxc</td>\n",
       "      <td>42n0p0581</td>\n",
       "      <td>frypzpgxc</td>\n",
       "    </tr>\n",
       "    <tr>\n",
       "      <th>678</th>\n",
       "      <td>90</td>\n",
       "      <td>-60</td>\n",
       "      <td>ERROR</td>\n",
       "      <td>fxvrfxvrf</td>\n",
       "      <td>fxvrfxvrf</td>\n",
       "      <td>fxvrfxvrf</td>\n",
       "      <td>48j248j24</td>\n",
       "      <td>fxvrfxvrf</td>\n",
       "    </tr>\n",
       "    <tr>\n",
       "      <th>679</th>\n",
       "      <td>90</td>\n",
       "      <td>-50</td>\n",
       "      <td>ERROR</td>\n",
       "      <td>fzurypzpg</td>\n",
       "      <td>fzurypzpg</td>\n",
       "      <td>fzurypzpg</td>\n",
       "      <td>4bh2n0p05</td>\n",
       "      <td>fzurypzpg</td>\n",
       "    </tr>\n",
       "    <tr>\n",
       "      <th>680</th>\n",
       "      <td>90</td>\n",
       "      <td>-40</td>\n",
       "      <td>ERROR</td>\n",
       "      <td>gpgxczbzu</td>\n",
       "      <td>gpgxczbzu</td>\n",
       "      <td>gpgxczbzu</td>\n",
       "      <td>50581b0bh</td>\n",
       "      <td>gpgxczbzu</td>\n",
       "    </tr>\n",
       "    <tr>\n",
       "      <th>681</th>\n",
       "      <td>90</td>\n",
       "      <td>-30</td>\n",
       "      <td>ERROR</td>\n",
       "      <td>grfxvrfxv</td>\n",
       "      <td>grfxvrfxv</td>\n",
       "      <td>grfxvrfxv</td>\n",
       "      <td>5248j248j</td>\n",
       "      <td>grfxvrfxv</td>\n",
       "    </tr>\n",
       "    <tr>\n",
       "      <th>682</th>\n",
       "      <td>90</td>\n",
       "      <td>-20</td>\n",
       "      <td>ERROR</td>\n",
       "      <td>gxczbzury</td>\n",
       "      <td>gxczbzury</td>\n",
       "      <td>gxczbzury</td>\n",
       "      <td>581b0bh2n</td>\n",
       "      <td>gxczbzury</td>\n",
       "    </tr>\n",
       "    <tr>\n",
       "      <th>683</th>\n",
       "      <td>90</td>\n",
       "      <td>-10</td>\n",
       "      <td>ERROR</td>\n",
       "      <td>gzbzurypz</td>\n",
       "      <td>gzbzurypz</td>\n",
       "      <td>gzbzurypz</td>\n",
       "      <td>5b0bh2n0p</td>\n",
       "      <td>gzbzurypz</td>\n",
       "    </tr>\n",
       "    <tr>\n",
       "      <th>684</th>\n",
       "      <td>90</td>\n",
       "      <td>0</td>\n",
       "      <td>ERROR</td>\n",
       "      <td>gzzzzzzzz</td>\n",
       "      <td>gzzzzzzzz</td>\n",
       "      <td>gzzzzzzzz</td>\n",
       "      <td>h00000000</td>\n",
       "      <td>upbpbpbpb</td>\n",
       "    </tr>\n",
       "    <tr>\n",
       "      <th>685</th>\n",
       "      <td>90</td>\n",
       "      <td>10</td>\n",
       "      <td>ERROR</td>\n",
       "      <td>upzpgxczb</td>\n",
       "      <td>upzpgxczb</td>\n",
       "      <td>upzpgxczb</td>\n",
       "      <td>h0p0581b0</td>\n",
       "      <td>upzpgxczb</td>\n",
       "    </tr>\n",
       "    <tr>\n",
       "      <th>686</th>\n",
       "      <td>90</td>\n",
       "      <td>20</td>\n",
       "      <td>ERROR</td>\n",
       "      <td>urypzpgxc</td>\n",
       "      <td>urypzpgxc</td>\n",
       "      <td>urypzpgxc</td>\n",
       "      <td>h2n0p0581</td>\n",
       "      <td>urypzpgxc</td>\n",
       "    </tr>\n",
       "    <tr>\n",
       "      <th>687</th>\n",
       "      <td>90</td>\n",
       "      <td>30</td>\n",
       "      <td>ERROR</td>\n",
       "      <td>uxvrfxvrf</td>\n",
       "      <td>uxvrfxvrf</td>\n",
       "      <td>uxvrfxvrf</td>\n",
       "      <td>h8j248j24</td>\n",
       "      <td>uxvrfxvrf</td>\n",
       "    </tr>\n",
       "    <tr>\n",
       "      <th>688</th>\n",
       "      <td>90</td>\n",
       "      <td>40</td>\n",
       "      <td>ERROR</td>\n",
       "      <td>uzurypzpg</td>\n",
       "      <td>uzurypzpg</td>\n",
       "      <td>uzurypzpg</td>\n",
       "      <td>hbh2n0p05</td>\n",
       "      <td>uzurypzpg</td>\n",
       "    </tr>\n",
       "    <tr>\n",
       "      <th>689</th>\n",
       "      <td>90</td>\n",
       "      <td>50</td>\n",
       "      <td>ERROR</td>\n",
       "      <td>vpgxczbzu</td>\n",
       "      <td>vpgxczbzu</td>\n",
       "      <td>vpgxczbzu</td>\n",
       "      <td>j0581b0bh</td>\n",
       "      <td>vpgxczbzu</td>\n",
       "    </tr>\n",
       "    <tr>\n",
       "      <th>690</th>\n",
       "      <td>90</td>\n",
       "      <td>60</td>\n",
       "      <td>ERROR</td>\n",
       "      <td>vrfxvrfxv</td>\n",
       "      <td>vrfxvrfxv</td>\n",
       "      <td>vrfxvrfxv</td>\n",
       "      <td>j248j248j</td>\n",
       "      <td>vrfxvrfxv</td>\n",
       "    </tr>\n",
       "    <tr>\n",
       "      <th>691</th>\n",
       "      <td>90</td>\n",
       "      <td>70</td>\n",
       "      <td>ERROR</td>\n",
       "      <td>vxczbzury</td>\n",
       "      <td>vxczbzury</td>\n",
       "      <td>vxczbzury</td>\n",
       "      <td>j81b0bh2n</td>\n",
       "      <td>vxczbzury</td>\n",
       "    </tr>\n",
       "    <tr>\n",
       "      <th>692</th>\n",
       "      <td>90</td>\n",
       "      <td>80</td>\n",
       "      <td>ERROR</td>\n",
       "      <td>vzbzurypz</td>\n",
       "      <td>vzbzurypz</td>\n",
       "      <td>vzbzurypz</td>\n",
       "      <td>jb0bh2n0p</td>\n",
       "      <td>vzbzurypz</td>\n",
       "    </tr>\n",
       "    <tr>\n",
       "      <th>693</th>\n",
       "      <td>90</td>\n",
       "      <td>90</td>\n",
       "      <td>ERROR</td>\n",
       "      <td>vzzzzzzzz</td>\n",
       "      <td>vzzzzzzzz</td>\n",
       "      <td>vzzzzzzzz</td>\n",
       "      <td>n00000000</td>\n",
       "      <td>ypbpbpbpb</td>\n",
       "    </tr>\n",
       "    <tr>\n",
       "      <th>694</th>\n",
       "      <td>90</td>\n",
       "      <td>100</td>\n",
       "      <td>ERROR</td>\n",
       "      <td>ypzpgxczb</td>\n",
       "      <td>ypzpgxczb</td>\n",
       "      <td>ypzpgxczb</td>\n",
       "      <td>n0p0581b0</td>\n",
       "      <td>ypzpgxczb</td>\n",
       "    </tr>\n",
       "    <tr>\n",
       "      <th>695</th>\n",
       "      <td>90</td>\n",
       "      <td>110</td>\n",
       "      <td>ERROR</td>\n",
       "      <td>yrypzpgxc</td>\n",
       "      <td>yrypzpgxc</td>\n",
       "      <td>yrypzpgxc</td>\n",
       "      <td>n2n0p0581</td>\n",
       "      <td>yrypzpgxc</td>\n",
       "    </tr>\n",
       "    <tr>\n",
       "      <th>696</th>\n",
       "      <td>90</td>\n",
       "      <td>120</td>\n",
       "      <td>ERROR</td>\n",
       "      <td>yxvrfxvrf</td>\n",
       "      <td>yxvrfxvrf</td>\n",
       "      <td>yxvrfxvrf</td>\n",
       "      <td>n8j248j24</td>\n",
       "      <td>yxvrfxvrf</td>\n",
       "    </tr>\n",
       "    <tr>\n",
       "      <th>697</th>\n",
       "      <td>90</td>\n",
       "      <td>130</td>\n",
       "      <td>ERROR</td>\n",
       "      <td>yzurypzpg</td>\n",
       "      <td>yzurypzpg</td>\n",
       "      <td>yzurypzpg</td>\n",
       "      <td>nbh2n0p05</td>\n",
       "      <td>yzurypzpg</td>\n",
       "    </tr>\n",
       "    <tr>\n",
       "      <th>698</th>\n",
       "      <td>90</td>\n",
       "      <td>140</td>\n",
       "      <td>ERROR</td>\n",
       "      <td>zpgxczbzu</td>\n",
       "      <td>zpgxczbzu</td>\n",
       "      <td>zpgxczbzu</td>\n",
       "      <td>p0581b0bh</td>\n",
       "      <td>zpgxczbzu</td>\n",
       "    </tr>\n",
       "    <tr>\n",
       "      <th>699</th>\n",
       "      <td>90</td>\n",
       "      <td>150</td>\n",
       "      <td>ERROR</td>\n",
       "      <td>zrfxvrfxv</td>\n",
       "      <td>zrfxvrfxv</td>\n",
       "      <td>zrfxvrfxv</td>\n",
       "      <td>p248j248j</td>\n",
       "      <td>zrfxvrfxv</td>\n",
       "    </tr>\n",
       "    <tr>\n",
       "      <th>700</th>\n",
       "      <td>90</td>\n",
       "      <td>160</td>\n",
       "      <td>ERROR</td>\n",
       "      <td>zxczbzury</td>\n",
       "      <td>zxczbzury</td>\n",
       "      <td>zxczbzury</td>\n",
       "      <td>p81b0bh2n</td>\n",
       "      <td>zxczbzury</td>\n",
       "    </tr>\n",
       "    <tr>\n",
       "      <th>701</th>\n",
       "      <td>90</td>\n",
       "      <td>170</td>\n",
       "      <td>ERROR</td>\n",
       "      <td>zzbzurypz</td>\n",
       "      <td>zzbzurypz</td>\n",
       "      <td>zzbzurypz</td>\n",
       "      <td>pb0bh2n0p</td>\n",
       "      <td>zzbzurypz</td>\n",
       "    </tr>\n",
       "    <tr>\n",
       "      <th>702</th>\n",
       "      <td>90</td>\n",
       "      <td>180</td>\n",
       "      <td>ERROR</td>\n",
       "      <td>zzzzzzzzz</td>\n",
       "      <td>zzzzzzzzz</td>\n",
       "      <td>zzzzzzzzz</td>\n",
       "      <td>000000000</td>\n",
       "      <td>zzzzzzzzz</td>\n",
       "    </tr>\n",
       "  </tbody>\n",
       "</table>\n",
       "</div>"
      ],
      "text/plain": [
       "     lat  long df_python_geohash df_geohash_tools df_pygeohash df_geohash2  \\\n",
       "36   -90   180         000000000        pbpbpbpbp    pbpbpbpbp   pbpbpbpbp   \n",
       "73   -80   180         01b0bh2n0        pczbzuryp    pczbzuryp   pczbzuryp   \n",
       "110  -70   180         0581b0bh2        pgxczbzur    pgxczbzur   pgxczbzur   \n",
       "147  -60   180         0j248j248        pvrfxvrfx    pvrfxvrfx   pvrfxvrfx   \n",
       "184  -50   180         0p0581b0b        pzpgxczbz    pzpgxczbz   pzpgxczbz   \n",
       "221  -40   180         20bh2n0p0        rbzurypzp    rbzurypzp   rbzurypzp   \n",
       "258  -30   180         248j248j2        rfxvrfxvr    rfxvrfxvr   rfxvrfxvr   \n",
       "295  -20   180         2h2n0p058        rurypzpgx    rurypzpgx   rurypzpgx   \n",
       "332  -10   180         2n0p0581b        rypzpgxcz    rypzpgxcz   rypzpgxcz   \n",
       "369    0   180         800000000        rzzzzzzzz    rzzzzzzzz   rzzzzzzzz   \n",
       "406   10   180         81b0bh2n0        xczbzuryp    xczbzuryp   xczbzuryp   \n",
       "443   20   180         8581b0bh2        xgxczbzur    xgxczbzur   xgxczbzur   \n",
       "480   30   180         8j248j248        xvrfxvrfx    xvrfxvrfx   xvrfxvrfx   \n",
       "517   40   180         8p0581b0b        xzpgxczbz    xzpgxczbz   xzpgxczbz   \n",
       "554   50   180         b0bh2n0p0        zbzurypzp    zbzurypzp   zbzurypzp   \n",
       "591   60   180         b48j248j2        zfxvrfxvr    zfxvrfxvr   zfxvrfxvr   \n",
       "628   70   180         bh2n0p058        zurypzpgx    zurypzpgx   zurypzpgx   \n",
       "665   80   180         bn0p0581b        zypzpgxcz    zypzpgxcz   zypzpgxcz   \n",
       "666   90  -180             ERROR        bpbpbpbpb    bpbpbpbpb   bpbpbpbpb   \n",
       "667   90  -170             ERROR        bpzpgxczb    bpzpgxczb   bpzpgxczb   \n",
       "668   90  -160             ERROR        brypzpgxc    brypzpgxc   brypzpgxc   \n",
       "669   90  -150             ERROR        bxvrfxvrf    bxvrfxvrf   bxvrfxvrf   \n",
       "670   90  -140             ERROR        bzurypzpg    bzurypzpg   bzurypzpg   \n",
       "671   90  -130             ERROR        cpgxczbzu    cpgxczbzu   cpgxczbzu   \n",
       "672   90  -120             ERROR        crfxvrfxv    crfxvrfxv   crfxvrfxv   \n",
       "673   90  -110             ERROR        cxczbzury    cxczbzury   cxczbzury   \n",
       "674   90  -100             ERROR        czbzurypz    czbzurypz   czbzurypz   \n",
       "675   90   -90             ERROR        czzzzzzzz    czzzzzzzz   czzzzzzzz   \n",
       "676   90   -80             ERROR        fpzpgxczb    fpzpgxczb   fpzpgxczb   \n",
       "677   90   -70             ERROR        frypzpgxc    frypzpgxc   frypzpgxc   \n",
       "678   90   -60             ERROR        fxvrfxvrf    fxvrfxvrf   fxvrfxvrf   \n",
       "679   90   -50             ERROR        fzurypzpg    fzurypzpg   fzurypzpg   \n",
       "680   90   -40             ERROR        gpgxczbzu    gpgxczbzu   gpgxczbzu   \n",
       "681   90   -30             ERROR        grfxvrfxv    grfxvrfxv   grfxvrfxv   \n",
       "682   90   -20             ERROR        gxczbzury    gxczbzury   gxczbzury   \n",
       "683   90   -10             ERROR        gzbzurypz    gzbzurypz   gzbzurypz   \n",
       "684   90     0             ERROR        gzzzzzzzz    gzzzzzzzz   gzzzzzzzz   \n",
       "685   90    10             ERROR        upzpgxczb    upzpgxczb   upzpgxczb   \n",
       "686   90    20             ERROR        urypzpgxc    urypzpgxc   urypzpgxc   \n",
       "687   90    30             ERROR        uxvrfxvrf    uxvrfxvrf   uxvrfxvrf   \n",
       "688   90    40             ERROR        uzurypzpg    uzurypzpg   uzurypzpg   \n",
       "689   90    50             ERROR        vpgxczbzu    vpgxczbzu   vpgxczbzu   \n",
       "690   90    60             ERROR        vrfxvrfxv    vrfxvrfxv   vrfxvrfxv   \n",
       "691   90    70             ERROR        vxczbzury    vxczbzury   vxczbzury   \n",
       "692   90    80             ERROR        vzbzurypz    vzbzurypz   vzbzurypz   \n",
       "693   90    90             ERROR        vzzzzzzzz    vzzzzzzzz   vzzzzzzzz   \n",
       "694   90   100             ERROR        ypzpgxczb    ypzpgxczb   ypzpgxczb   \n",
       "695   90   110             ERROR        yrypzpgxc    yrypzpgxc   yrypzpgxc   \n",
       "696   90   120             ERROR        yxvrfxvrf    yxvrfxvrf   yxvrfxvrf   \n",
       "697   90   130             ERROR        yzurypzpg    yzurypzpg   yzurypzpg   \n",
       "698   90   140             ERROR        zpgxczbzu    zpgxczbzu   zpgxczbzu   \n",
       "699   90   150             ERROR        zrfxvrfxv    zrfxvrfxv   zrfxvrfxv   \n",
       "700   90   160             ERROR        zxczbzury    zxczbzury   zxczbzury   \n",
       "701   90   170             ERROR        zzbzurypz    zzbzurypz   zzbzurypz   \n",
       "702   90   180             ERROR        zzzzzzzzz    zzzzzzzzz   zzzzzzzzz   \n",
       "\n",
       "    df_pygeohashfast  df_geolib  \n",
       "36         000000000  pbpbpbpbp  \n",
       "73         01b0bh2n0  pczbzuryp  \n",
       "110        0581b0bh2  pgxczbzur  \n",
       "147        0j248j248  pvrfxvrfx  \n",
       "184        0p0581b0b  pzpgxczbz  \n",
       "221        20bh2n0p0  rbzurypzp  \n",
       "258        248j248j2  rfxvrfxvr  \n",
       "295        2h2n0p058  rurypzpgx  \n",
       "332        2n0p0581b  rypzpgxcz  \n",
       "369        800000000  xbpbpbpbp  \n",
       "406        81b0bh2n0  xczbzuryp  \n",
       "443        8581b0bh2  xgxczbzur  \n",
       "480        8j248j248  xvrfxvrfx  \n",
       "517        8p0581b0b  xzpgxczbz  \n",
       "554        b0bh2n0p0  zbzurypzp  \n",
       "591        b48j248j2  zfxvrfxvr  \n",
       "628        bh2n0p058  zurypzpgx  \n",
       "665        bn0p0581b  zypzpgxcz  \n",
       "666        000000000  bpbpbpbpb  \n",
       "667        00p0581b0  bpzpgxczb  \n",
       "668        02n0p0581  brypzpgxc  \n",
       "669        08j248j24  bxvrfxvrf  \n",
       "670        0bh2n0p05  bzurypzpg  \n",
       "671        10581b0bh  cpgxczbzu  \n",
       "672        1248j248j  crfxvrfxv  \n",
       "673        181b0bh2n  cxczbzury  \n",
       "674        1b0bh2n0p  czbzurypz  \n",
       "675        400000000  fpbpbpbpb  \n",
       "676        40p0581b0  fpzpgxczb  \n",
       "677        42n0p0581  frypzpgxc  \n",
       "678        48j248j24  fxvrfxvrf  \n",
       "679        4bh2n0p05  fzurypzpg  \n",
       "680        50581b0bh  gpgxczbzu  \n",
       "681        5248j248j  grfxvrfxv  \n",
       "682        581b0bh2n  gxczbzury  \n",
       "683        5b0bh2n0p  gzbzurypz  \n",
       "684        h00000000  upbpbpbpb  \n",
       "685        h0p0581b0  upzpgxczb  \n",
       "686        h2n0p0581  urypzpgxc  \n",
       "687        h8j248j24  uxvrfxvrf  \n",
       "688        hbh2n0p05  uzurypzpg  \n",
       "689        j0581b0bh  vpgxczbzu  \n",
       "690        j248j248j  vrfxvrfxv  \n",
       "691        j81b0bh2n  vxczbzury  \n",
       "692        jb0bh2n0p  vzbzurypz  \n",
       "693        n00000000  ypbpbpbpb  \n",
       "694        n0p0581b0  ypzpgxczb  \n",
       "695        n2n0p0581  yrypzpgxc  \n",
       "696        n8j248j24  yxvrfxvrf  \n",
       "697        nbh2n0p05  yzurypzpg  \n",
       "698        p0581b0bh  zpgxczbzu  \n",
       "699        p248j248j  zrfxvrfxv  \n",
       "700        p81b0bh2n  zxczbzury  \n",
       "701        pb0bh2n0p  zzbzurypz  \n",
       "702        000000000  zzzzzzzzz  "
      ]
     },
     "execution_count": 175,
     "metadata": {},
     "output_type": "execute_result"
    }
   ],
   "source": [
    "df_comb[df_comb['df_python_geohash'] != df_comb['df_geolib']]\n"
   ]
  },
  {
   "cell_type": "code",
   "execution_count": 176,
   "id": "6a9c3967-4800-4a8a-83b3-3b0b0f311e8a",
   "metadata": {
    "tags": []
   },
   "outputs": [
    {
     "data": {
      "text/html": [
       "<div>\n",
       "<style scoped>\n",
       "    .dataframe tbody tr th:only-of-type {\n",
       "        vertical-align: middle;\n",
       "    }\n",
       "\n",
       "    .dataframe tbody tr th {\n",
       "        vertical-align: top;\n",
       "    }\n",
       "\n",
       "    .dataframe thead th {\n",
       "        text-align: right;\n",
       "    }\n",
       "</style>\n",
       "<table border=\"1\" class=\"dataframe\">\n",
       "  <thead>\n",
       "    <tr style=\"text-align: right;\">\n",
       "      <th></th>\n",
       "      <th>lat</th>\n",
       "      <th>long</th>\n",
       "      <th>df_python_geohash</th>\n",
       "      <th>df_geohash_tools</th>\n",
       "      <th>df_pygeohash</th>\n",
       "      <th>df_geohash2</th>\n",
       "      <th>df_pygeohashfast</th>\n",
       "      <th>df_geolib</th>\n",
       "    </tr>\n",
       "  </thead>\n",
       "  <tbody>\n",
       "    <tr>\n",
       "      <th>666</th>\n",
       "      <td>90</td>\n",
       "      <td>-180</td>\n",
       "      <td>ERROR</td>\n",
       "      <td>bpbpbpbpb</td>\n",
       "      <td>bpbpbpbpb</td>\n",
       "      <td>bpbpbpbpb</td>\n",
       "      <td>000000000</td>\n",
       "      <td>bpbpbpbpb</td>\n",
       "    </tr>\n",
       "    <tr>\n",
       "      <th>667</th>\n",
       "      <td>90</td>\n",
       "      <td>-170</td>\n",
       "      <td>ERROR</td>\n",
       "      <td>bpzpgxczb</td>\n",
       "      <td>bpzpgxczb</td>\n",
       "      <td>bpzpgxczb</td>\n",
       "      <td>00p0581b0</td>\n",
       "      <td>bpzpgxczb</td>\n",
       "    </tr>\n",
       "    <tr>\n",
       "      <th>668</th>\n",
       "      <td>90</td>\n",
       "      <td>-160</td>\n",
       "      <td>ERROR</td>\n",
       "      <td>brypzpgxc</td>\n",
       "      <td>brypzpgxc</td>\n",
       "      <td>brypzpgxc</td>\n",
       "      <td>02n0p0581</td>\n",
       "      <td>brypzpgxc</td>\n",
       "    </tr>\n",
       "    <tr>\n",
       "      <th>669</th>\n",
       "      <td>90</td>\n",
       "      <td>-150</td>\n",
       "      <td>ERROR</td>\n",
       "      <td>bxvrfxvrf</td>\n",
       "      <td>bxvrfxvrf</td>\n",
       "      <td>bxvrfxvrf</td>\n",
       "      <td>08j248j24</td>\n",
       "      <td>bxvrfxvrf</td>\n",
       "    </tr>\n",
       "    <tr>\n",
       "      <th>670</th>\n",
       "      <td>90</td>\n",
       "      <td>-140</td>\n",
       "      <td>ERROR</td>\n",
       "      <td>bzurypzpg</td>\n",
       "      <td>bzurypzpg</td>\n",
       "      <td>bzurypzpg</td>\n",
       "      <td>0bh2n0p05</td>\n",
       "      <td>bzurypzpg</td>\n",
       "    </tr>\n",
       "    <tr>\n",
       "      <th>671</th>\n",
       "      <td>90</td>\n",
       "      <td>-130</td>\n",
       "      <td>ERROR</td>\n",
       "      <td>cpgxczbzu</td>\n",
       "      <td>cpgxczbzu</td>\n",
       "      <td>cpgxczbzu</td>\n",
       "      <td>10581b0bh</td>\n",
       "      <td>cpgxczbzu</td>\n",
       "    </tr>\n",
       "    <tr>\n",
       "      <th>672</th>\n",
       "      <td>90</td>\n",
       "      <td>-120</td>\n",
       "      <td>ERROR</td>\n",
       "      <td>crfxvrfxv</td>\n",
       "      <td>crfxvrfxv</td>\n",
       "      <td>crfxvrfxv</td>\n",
       "      <td>1248j248j</td>\n",
       "      <td>crfxvrfxv</td>\n",
       "    </tr>\n",
       "    <tr>\n",
       "      <th>673</th>\n",
       "      <td>90</td>\n",
       "      <td>-110</td>\n",
       "      <td>ERROR</td>\n",
       "      <td>cxczbzury</td>\n",
       "      <td>cxczbzury</td>\n",
       "      <td>cxczbzury</td>\n",
       "      <td>181b0bh2n</td>\n",
       "      <td>cxczbzury</td>\n",
       "    </tr>\n",
       "    <tr>\n",
       "      <th>674</th>\n",
       "      <td>90</td>\n",
       "      <td>-100</td>\n",
       "      <td>ERROR</td>\n",
       "      <td>czbzurypz</td>\n",
       "      <td>czbzurypz</td>\n",
       "      <td>czbzurypz</td>\n",
       "      <td>1b0bh2n0p</td>\n",
       "      <td>czbzurypz</td>\n",
       "    </tr>\n",
       "    <tr>\n",
       "      <th>675</th>\n",
       "      <td>90</td>\n",
       "      <td>-90</td>\n",
       "      <td>ERROR</td>\n",
       "      <td>czzzzzzzz</td>\n",
       "      <td>czzzzzzzz</td>\n",
       "      <td>czzzzzzzz</td>\n",
       "      <td>400000000</td>\n",
       "      <td>fpbpbpbpb</td>\n",
       "    </tr>\n",
       "    <tr>\n",
       "      <th>676</th>\n",
       "      <td>90</td>\n",
       "      <td>-80</td>\n",
       "      <td>ERROR</td>\n",
       "      <td>fpzpgxczb</td>\n",
       "      <td>fpzpgxczb</td>\n",
       "      <td>fpzpgxczb</td>\n",
       "      <td>40p0581b0</td>\n",
       "      <td>fpzpgxczb</td>\n",
       "    </tr>\n",
       "    <tr>\n",
       "      <th>677</th>\n",
       "      <td>90</td>\n",
       "      <td>-70</td>\n",
       "      <td>ERROR</td>\n",
       "      <td>frypzpgxc</td>\n",
       "      <td>frypzpgxc</td>\n",
       "      <td>frypzpgxc</td>\n",
       "      <td>42n0p0581</td>\n",
       "      <td>frypzpgxc</td>\n",
       "    </tr>\n",
       "    <tr>\n",
       "      <th>678</th>\n",
       "      <td>90</td>\n",
       "      <td>-60</td>\n",
       "      <td>ERROR</td>\n",
       "      <td>fxvrfxvrf</td>\n",
       "      <td>fxvrfxvrf</td>\n",
       "      <td>fxvrfxvrf</td>\n",
       "      <td>48j248j24</td>\n",
       "      <td>fxvrfxvrf</td>\n",
       "    </tr>\n",
       "    <tr>\n",
       "      <th>679</th>\n",
       "      <td>90</td>\n",
       "      <td>-50</td>\n",
       "      <td>ERROR</td>\n",
       "      <td>fzurypzpg</td>\n",
       "      <td>fzurypzpg</td>\n",
       "      <td>fzurypzpg</td>\n",
       "      <td>4bh2n0p05</td>\n",
       "      <td>fzurypzpg</td>\n",
       "    </tr>\n",
       "    <tr>\n",
       "      <th>680</th>\n",
       "      <td>90</td>\n",
       "      <td>-40</td>\n",
       "      <td>ERROR</td>\n",
       "      <td>gpgxczbzu</td>\n",
       "      <td>gpgxczbzu</td>\n",
       "      <td>gpgxczbzu</td>\n",
       "      <td>50581b0bh</td>\n",
       "      <td>gpgxczbzu</td>\n",
       "    </tr>\n",
       "    <tr>\n",
       "      <th>681</th>\n",
       "      <td>90</td>\n",
       "      <td>-30</td>\n",
       "      <td>ERROR</td>\n",
       "      <td>grfxvrfxv</td>\n",
       "      <td>grfxvrfxv</td>\n",
       "      <td>grfxvrfxv</td>\n",
       "      <td>5248j248j</td>\n",
       "      <td>grfxvrfxv</td>\n",
       "    </tr>\n",
       "    <tr>\n",
       "      <th>682</th>\n",
       "      <td>90</td>\n",
       "      <td>-20</td>\n",
       "      <td>ERROR</td>\n",
       "      <td>gxczbzury</td>\n",
       "      <td>gxczbzury</td>\n",
       "      <td>gxczbzury</td>\n",
       "      <td>581b0bh2n</td>\n",
       "      <td>gxczbzury</td>\n",
       "    </tr>\n",
       "    <tr>\n",
       "      <th>683</th>\n",
       "      <td>90</td>\n",
       "      <td>-10</td>\n",
       "      <td>ERROR</td>\n",
       "      <td>gzbzurypz</td>\n",
       "      <td>gzbzurypz</td>\n",
       "      <td>gzbzurypz</td>\n",
       "      <td>5b0bh2n0p</td>\n",
       "      <td>gzbzurypz</td>\n",
       "    </tr>\n",
       "    <tr>\n",
       "      <th>684</th>\n",
       "      <td>90</td>\n",
       "      <td>0</td>\n",
       "      <td>ERROR</td>\n",
       "      <td>gzzzzzzzz</td>\n",
       "      <td>gzzzzzzzz</td>\n",
       "      <td>gzzzzzzzz</td>\n",
       "      <td>h00000000</td>\n",
       "      <td>upbpbpbpb</td>\n",
       "    </tr>\n",
       "    <tr>\n",
       "      <th>685</th>\n",
       "      <td>90</td>\n",
       "      <td>10</td>\n",
       "      <td>ERROR</td>\n",
       "      <td>upzpgxczb</td>\n",
       "      <td>upzpgxczb</td>\n",
       "      <td>upzpgxczb</td>\n",
       "      <td>h0p0581b0</td>\n",
       "      <td>upzpgxczb</td>\n",
       "    </tr>\n",
       "    <tr>\n",
       "      <th>686</th>\n",
       "      <td>90</td>\n",
       "      <td>20</td>\n",
       "      <td>ERROR</td>\n",
       "      <td>urypzpgxc</td>\n",
       "      <td>urypzpgxc</td>\n",
       "      <td>urypzpgxc</td>\n",
       "      <td>h2n0p0581</td>\n",
       "      <td>urypzpgxc</td>\n",
       "    </tr>\n",
       "    <tr>\n",
       "      <th>687</th>\n",
       "      <td>90</td>\n",
       "      <td>30</td>\n",
       "      <td>ERROR</td>\n",
       "      <td>uxvrfxvrf</td>\n",
       "      <td>uxvrfxvrf</td>\n",
       "      <td>uxvrfxvrf</td>\n",
       "      <td>h8j248j24</td>\n",
       "      <td>uxvrfxvrf</td>\n",
       "    </tr>\n",
       "    <tr>\n",
       "      <th>688</th>\n",
       "      <td>90</td>\n",
       "      <td>40</td>\n",
       "      <td>ERROR</td>\n",
       "      <td>uzurypzpg</td>\n",
       "      <td>uzurypzpg</td>\n",
       "      <td>uzurypzpg</td>\n",
       "      <td>hbh2n0p05</td>\n",
       "      <td>uzurypzpg</td>\n",
       "    </tr>\n",
       "    <tr>\n",
       "      <th>689</th>\n",
       "      <td>90</td>\n",
       "      <td>50</td>\n",
       "      <td>ERROR</td>\n",
       "      <td>vpgxczbzu</td>\n",
       "      <td>vpgxczbzu</td>\n",
       "      <td>vpgxczbzu</td>\n",
       "      <td>j0581b0bh</td>\n",
       "      <td>vpgxczbzu</td>\n",
       "    </tr>\n",
       "    <tr>\n",
       "      <th>690</th>\n",
       "      <td>90</td>\n",
       "      <td>60</td>\n",
       "      <td>ERROR</td>\n",
       "      <td>vrfxvrfxv</td>\n",
       "      <td>vrfxvrfxv</td>\n",
       "      <td>vrfxvrfxv</td>\n",
       "      <td>j248j248j</td>\n",
       "      <td>vrfxvrfxv</td>\n",
       "    </tr>\n",
       "    <tr>\n",
       "      <th>691</th>\n",
       "      <td>90</td>\n",
       "      <td>70</td>\n",
       "      <td>ERROR</td>\n",
       "      <td>vxczbzury</td>\n",
       "      <td>vxczbzury</td>\n",
       "      <td>vxczbzury</td>\n",
       "      <td>j81b0bh2n</td>\n",
       "      <td>vxczbzury</td>\n",
       "    </tr>\n",
       "    <tr>\n",
       "      <th>692</th>\n",
       "      <td>90</td>\n",
       "      <td>80</td>\n",
       "      <td>ERROR</td>\n",
       "      <td>vzbzurypz</td>\n",
       "      <td>vzbzurypz</td>\n",
       "      <td>vzbzurypz</td>\n",
       "      <td>jb0bh2n0p</td>\n",
       "      <td>vzbzurypz</td>\n",
       "    </tr>\n",
       "    <tr>\n",
       "      <th>693</th>\n",
       "      <td>90</td>\n",
       "      <td>90</td>\n",
       "      <td>ERROR</td>\n",
       "      <td>vzzzzzzzz</td>\n",
       "      <td>vzzzzzzzz</td>\n",
       "      <td>vzzzzzzzz</td>\n",
       "      <td>n00000000</td>\n",
       "      <td>ypbpbpbpb</td>\n",
       "    </tr>\n",
       "    <tr>\n",
       "      <th>694</th>\n",
       "      <td>90</td>\n",
       "      <td>100</td>\n",
       "      <td>ERROR</td>\n",
       "      <td>ypzpgxczb</td>\n",
       "      <td>ypzpgxczb</td>\n",
       "      <td>ypzpgxczb</td>\n",
       "      <td>n0p0581b0</td>\n",
       "      <td>ypzpgxczb</td>\n",
       "    </tr>\n",
       "    <tr>\n",
       "      <th>695</th>\n",
       "      <td>90</td>\n",
       "      <td>110</td>\n",
       "      <td>ERROR</td>\n",
       "      <td>yrypzpgxc</td>\n",
       "      <td>yrypzpgxc</td>\n",
       "      <td>yrypzpgxc</td>\n",
       "      <td>n2n0p0581</td>\n",
       "      <td>yrypzpgxc</td>\n",
       "    </tr>\n",
       "    <tr>\n",
       "      <th>696</th>\n",
       "      <td>90</td>\n",
       "      <td>120</td>\n",
       "      <td>ERROR</td>\n",
       "      <td>yxvrfxvrf</td>\n",
       "      <td>yxvrfxvrf</td>\n",
       "      <td>yxvrfxvrf</td>\n",
       "      <td>n8j248j24</td>\n",
       "      <td>yxvrfxvrf</td>\n",
       "    </tr>\n",
       "    <tr>\n",
       "      <th>697</th>\n",
       "      <td>90</td>\n",
       "      <td>130</td>\n",
       "      <td>ERROR</td>\n",
       "      <td>yzurypzpg</td>\n",
       "      <td>yzurypzpg</td>\n",
       "      <td>yzurypzpg</td>\n",
       "      <td>nbh2n0p05</td>\n",
       "      <td>yzurypzpg</td>\n",
       "    </tr>\n",
       "    <tr>\n",
       "      <th>698</th>\n",
       "      <td>90</td>\n",
       "      <td>140</td>\n",
       "      <td>ERROR</td>\n",
       "      <td>zpgxczbzu</td>\n",
       "      <td>zpgxczbzu</td>\n",
       "      <td>zpgxczbzu</td>\n",
       "      <td>p0581b0bh</td>\n",
       "      <td>zpgxczbzu</td>\n",
       "    </tr>\n",
       "    <tr>\n",
       "      <th>699</th>\n",
       "      <td>90</td>\n",
       "      <td>150</td>\n",
       "      <td>ERROR</td>\n",
       "      <td>zrfxvrfxv</td>\n",
       "      <td>zrfxvrfxv</td>\n",
       "      <td>zrfxvrfxv</td>\n",
       "      <td>p248j248j</td>\n",
       "      <td>zrfxvrfxv</td>\n",
       "    </tr>\n",
       "    <tr>\n",
       "      <th>700</th>\n",
       "      <td>90</td>\n",
       "      <td>160</td>\n",
       "      <td>ERROR</td>\n",
       "      <td>zxczbzury</td>\n",
       "      <td>zxczbzury</td>\n",
       "      <td>zxczbzury</td>\n",
       "      <td>p81b0bh2n</td>\n",
       "      <td>zxczbzury</td>\n",
       "    </tr>\n",
       "    <tr>\n",
       "      <th>701</th>\n",
       "      <td>90</td>\n",
       "      <td>170</td>\n",
       "      <td>ERROR</td>\n",
       "      <td>zzbzurypz</td>\n",
       "      <td>zzbzurypz</td>\n",
       "      <td>zzbzurypz</td>\n",
       "      <td>pb0bh2n0p</td>\n",
       "      <td>zzbzurypz</td>\n",
       "    </tr>\n",
       "    <tr>\n",
       "      <th>702</th>\n",
       "      <td>90</td>\n",
       "      <td>180</td>\n",
       "      <td>ERROR</td>\n",
       "      <td>zzzzzzzzz</td>\n",
       "      <td>zzzzzzzzz</td>\n",
       "      <td>zzzzzzzzz</td>\n",
       "      <td>000000000</td>\n",
       "      <td>zzzzzzzzz</td>\n",
       "    </tr>\n",
       "  </tbody>\n",
       "</table>\n",
       "</div>"
      ],
      "text/plain": [
       "    lat  long df_python_geohash df_geohash_tools df_pygeohash df_geohash2  \\\n",
       "666  90  -180             ERROR        bpbpbpbpb    bpbpbpbpb   bpbpbpbpb   \n",
       "667  90  -170             ERROR        bpzpgxczb    bpzpgxczb   bpzpgxczb   \n",
       "668  90  -160             ERROR        brypzpgxc    brypzpgxc   brypzpgxc   \n",
       "669  90  -150             ERROR        bxvrfxvrf    bxvrfxvrf   bxvrfxvrf   \n",
       "670  90  -140             ERROR        bzurypzpg    bzurypzpg   bzurypzpg   \n",
       "671  90  -130             ERROR        cpgxczbzu    cpgxczbzu   cpgxczbzu   \n",
       "672  90  -120             ERROR        crfxvrfxv    crfxvrfxv   crfxvrfxv   \n",
       "673  90  -110             ERROR        cxczbzury    cxczbzury   cxczbzury   \n",
       "674  90  -100             ERROR        czbzurypz    czbzurypz   czbzurypz   \n",
       "675  90   -90             ERROR        czzzzzzzz    czzzzzzzz   czzzzzzzz   \n",
       "676  90   -80             ERROR        fpzpgxczb    fpzpgxczb   fpzpgxczb   \n",
       "677  90   -70             ERROR        frypzpgxc    frypzpgxc   frypzpgxc   \n",
       "678  90   -60             ERROR        fxvrfxvrf    fxvrfxvrf   fxvrfxvrf   \n",
       "679  90   -50             ERROR        fzurypzpg    fzurypzpg   fzurypzpg   \n",
       "680  90   -40             ERROR        gpgxczbzu    gpgxczbzu   gpgxczbzu   \n",
       "681  90   -30             ERROR        grfxvrfxv    grfxvrfxv   grfxvrfxv   \n",
       "682  90   -20             ERROR        gxczbzury    gxczbzury   gxczbzury   \n",
       "683  90   -10             ERROR        gzbzurypz    gzbzurypz   gzbzurypz   \n",
       "684  90     0             ERROR        gzzzzzzzz    gzzzzzzzz   gzzzzzzzz   \n",
       "685  90    10             ERROR        upzpgxczb    upzpgxczb   upzpgxczb   \n",
       "686  90    20             ERROR        urypzpgxc    urypzpgxc   urypzpgxc   \n",
       "687  90    30             ERROR        uxvrfxvrf    uxvrfxvrf   uxvrfxvrf   \n",
       "688  90    40             ERROR        uzurypzpg    uzurypzpg   uzurypzpg   \n",
       "689  90    50             ERROR        vpgxczbzu    vpgxczbzu   vpgxczbzu   \n",
       "690  90    60             ERROR        vrfxvrfxv    vrfxvrfxv   vrfxvrfxv   \n",
       "691  90    70             ERROR        vxczbzury    vxczbzury   vxczbzury   \n",
       "692  90    80             ERROR        vzbzurypz    vzbzurypz   vzbzurypz   \n",
       "693  90    90             ERROR        vzzzzzzzz    vzzzzzzzz   vzzzzzzzz   \n",
       "694  90   100             ERROR        ypzpgxczb    ypzpgxczb   ypzpgxczb   \n",
       "695  90   110             ERROR        yrypzpgxc    yrypzpgxc   yrypzpgxc   \n",
       "696  90   120             ERROR        yxvrfxvrf    yxvrfxvrf   yxvrfxvrf   \n",
       "697  90   130             ERROR        yzurypzpg    yzurypzpg   yzurypzpg   \n",
       "698  90   140             ERROR        zpgxczbzu    zpgxczbzu   zpgxczbzu   \n",
       "699  90   150             ERROR        zrfxvrfxv    zrfxvrfxv   zrfxvrfxv   \n",
       "700  90   160             ERROR        zxczbzury    zxczbzury   zxczbzury   \n",
       "701  90   170             ERROR        zzbzurypz    zzbzurypz   zzbzurypz   \n",
       "702  90   180             ERROR        zzzzzzzzz    zzzzzzzzz   zzzzzzzzz   \n",
       "\n",
       "    df_pygeohashfast  df_geolib  \n",
       "666        000000000  bpbpbpbpb  \n",
       "667        00p0581b0  bpzpgxczb  \n",
       "668        02n0p0581  brypzpgxc  \n",
       "669        08j248j24  bxvrfxvrf  \n",
       "670        0bh2n0p05  bzurypzpg  \n",
       "671        10581b0bh  cpgxczbzu  \n",
       "672        1248j248j  crfxvrfxv  \n",
       "673        181b0bh2n  cxczbzury  \n",
       "674        1b0bh2n0p  czbzurypz  \n",
       "675        400000000  fpbpbpbpb  \n",
       "676        40p0581b0  fpzpgxczb  \n",
       "677        42n0p0581  frypzpgxc  \n",
       "678        48j248j24  fxvrfxvrf  \n",
       "679        4bh2n0p05  fzurypzpg  \n",
       "680        50581b0bh  gpgxczbzu  \n",
       "681        5248j248j  grfxvrfxv  \n",
       "682        581b0bh2n  gxczbzury  \n",
       "683        5b0bh2n0p  gzbzurypz  \n",
       "684        h00000000  upbpbpbpb  \n",
       "685        h0p0581b0  upzpgxczb  \n",
       "686        h2n0p0581  urypzpgxc  \n",
       "687        h8j248j24  uxvrfxvrf  \n",
       "688        hbh2n0p05  uzurypzpg  \n",
       "689        j0581b0bh  vpgxczbzu  \n",
       "690        j248j248j  vrfxvrfxv  \n",
       "691        j81b0bh2n  vxczbzury  \n",
       "692        jb0bh2n0p  vzbzurypz  \n",
       "693        n00000000  ypbpbpbpb  \n",
       "694        n0p0581b0  ypzpgxczb  \n",
       "695        n2n0p0581  yrypzpgxc  \n",
       "696        n8j248j24  yxvrfxvrf  \n",
       "697        nbh2n0p05  yzurypzpg  \n",
       "698        p0581b0bh  zpgxczbzu  \n",
       "699        p248j248j  zrfxvrfxv  \n",
       "700        p81b0bh2n  zxczbzury  \n",
       "701        pb0bh2n0p  zzbzurypz  \n",
       "702        000000000  zzzzzzzzz  "
      ]
     },
     "execution_count": 176,
     "metadata": {},
     "output_type": "execute_result"
    }
   ],
   "source": [
    "df_comb[df_comb['df_python_geohash'] != df_comb['df_pygeohashfast']]\n"
   ]
  },
  {
   "cell_type": "code",
   "execution_count": null,
   "id": "9428912d-5e77-4791-b719-feb51bc0316d",
   "metadata": {},
   "outputs": [],
   "source": []
  }
 ],
 "metadata": {
  "kernelspec": {
   "display_name": "Python 3 (ipykernel)",
   "language": "python",
   "name": "python3"
  },
  "language_info": {
   "codemirror_mode": {
    "name": "ipython",
    "version": 3
   },
   "file_extension": ".py",
   "mimetype": "text/x-python",
   "name": "python",
   "nbconvert_exporter": "python",
   "pygments_lexer": "ipython3",
   "version": "3.10.10"
  }
 },
 "nbformat": 4,
 "nbformat_minor": 5
}
